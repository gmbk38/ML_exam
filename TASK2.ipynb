{
 "cells": [
  {
   "cell_type": "code",
   "execution_count": 146,
   "outputs": [],
   "source": [
    "from sklearn.preprocessing import StandardScaler\n",
    "import pandas as pd\n",
    "import torch\n",
    "import torch.nn as nn\n",
    "import numpy as np\n",
    "from sklearn import datasets\n",
    "import matplotlib.pyplot as plt"
   ],
   "metadata": {
    "collapsed": false,
    "ExecuteTime": {
     "end_time": "2023-06-11T14:06:15.608555Z",
     "start_time": "2023-06-11T14:06:15.584629Z"
    }
   }
  },
  {
   "cell_type": "code",
   "execution_count": 155,
   "outputs": [],
   "source": [
    "data = pd.read_csv('data/insurance-2.csv')\n",
    "data.head()\n",
    "\n",
    "sexUn = data['sex'].unique() # преобразование каждого признака в числовой\n",
    "smokerUn = data['smoker'].unique()\n",
    "regionUn = data['region'].unique()\n",
    "\n",
    "for i in range(len(sexUn)):\n",
    "    data['sex'] = data['sex'].replace(sexUn[i], i)\n",
    "\n",
    "for i in range(len(smokerUn)):\n",
    "    data['smoker'] = data['smoker'].replace(smokerUn[i], i)\n",
    "\n",
    "for i in range(len(regionUn)):\n",
    "    data['region'] = data['region'].replace(regionUn[i], i)\n",
    "\n",
    "data = data.drop('index', axis=1)\n",
    "\n",
    "X = data\n",
    "X = data.drop('charges', axis=1)\n",
    "y = data.charges\n",
    "\n",
    "X_numpy = X.to_numpy()\n",
    "y_numpy = y.to_numpy()\n",
    "\n",
    "\n",
    "scaler = StandardScaler()\n",
    "X_numpy = scaler.fit_transform(X_numpy)\n",
    "y_numpy = scaler.fit_transform(y_numpy.reshape(-1,1))"
   ],
   "metadata": {
    "collapsed": false,
    "ExecuteTime": {
     "end_time": "2023-06-11T14:22:05.979475Z",
     "start_time": "2023-06-11T14:22:05.967602Z"
    }
   }
  },
  {
   "cell_type": "code",
   "execution_count": 156,
   "outputs": [
    {
     "name": "stdout",
     "output_type": "stream",
     "text": [
      "             0         1         2         3         4         5\n",
      "0    -1.438764 -1.010519 -0.453320 -0.908614 -1.970587 -1.343905\n",
      "1    -1.509965  0.989591  0.509621 -0.078767  0.507463 -0.438495\n",
      "2    -0.797954  0.989591  0.383307  1.580926  0.507463 -0.438495\n",
      "3    -0.441948  0.989591 -1.305531 -0.908614  0.507463  0.466915\n",
      "4    -0.513149  0.989591 -0.292556 -0.908614  0.507463  0.466915\n",
      "...        ...       ...       ...       ...       ...       ...\n",
      "1333  0.768473  0.989591  0.050297  1.580926  0.507463  0.466915\n",
      "1334 -1.509965 -1.010519  0.206139 -0.908614  0.507463  1.372326\n",
      "1335 -1.509965 -1.010519  1.014878 -0.908614  0.507463 -0.438495\n",
      "1336 -1.296362 -1.010519 -0.797813 -0.908614  0.507463 -1.343905\n",
      "1337  1.551686 -1.010519 -0.261388 -0.908614 -1.970587  0.466915\n",
      "\n",
      "[1338 rows x 6 columns]\n"
     ]
    }
   ],
   "source": [
    "print(pd.DataFrame(X_numpy))"
   ],
   "metadata": {
    "collapsed": false,
    "ExecuteTime": {
     "end_time": "2023-06-11T14:22:06.312906Z",
     "start_time": "2023-06-11T14:22:06.307256Z"
    }
   }
  },
  {
   "cell_type": "code",
   "execution_count": 157,
   "outputs": [],
   "source": [
    "# X_numpy, y_numpy = datasets.make_regression(n_samples=1000, n_features=2, noise=20, random_state=12)"
   ],
   "metadata": {
    "collapsed": false,
    "ExecuteTime": {
     "end_time": "2023-06-11T14:22:06.664652Z",
     "start_time": "2023-06-11T14:22:06.660160Z"
    }
   }
  },
  {
   "cell_type": "code",
   "execution_count": 162,
   "outputs": [
    {
     "name": "stdout",
     "output_type": "stream",
     "text": [
      "epoch: 10, loss = 1.2838\n",
      "epoch: 20, loss = 1.2626\n",
      "epoch: 30, loss = 1.2416\n",
      "epoch: 40, loss = 1.2207\n",
      "epoch: 50, loss = 1.2000\n",
      "epoch: 60, loss = 1.1795\n",
      "epoch: 70, loss = 1.1594\n",
      "epoch: 80, loss = 1.1396\n",
      "epoch: 90, loss = 1.1202\n",
      "epoch: 100, loss = 1.1013\n",
      "epoch: 110, loss = 1.0829\n",
      "epoch: 120, loss = 1.0650\n",
      "epoch: 130, loss = 1.0477\n",
      "epoch: 140, loss = 1.0310\n",
      "epoch: 150, loss = 1.0148\n",
      "epoch: 160, loss = 0.9993\n",
      "epoch: 170, loss = 0.9844\n",
      "epoch: 180, loss = 0.9701\n",
      "epoch: 190, loss = 0.9564\n",
      "epoch: 200, loss = 0.9433\n",
      "epoch: 210, loss = 0.9308\n",
      "epoch: 220, loss = 0.9188\n",
      "epoch: 230, loss = 0.9075\n",
      "epoch: 240, loss = 0.8966\n",
      "epoch: 250, loss = 0.8863\n",
      "epoch: 260, loss = 0.8764\n",
      "epoch: 270, loss = 0.8670\n",
      "epoch: 280, loss = 0.8581\n",
      "epoch: 290, loss = 0.8496\n",
      "epoch: 300, loss = 0.8415\n",
      "epoch: 310, loss = 0.8337\n",
      "epoch: 320, loss = 0.8264\n",
      "epoch: 330, loss = 0.8193\n",
      "epoch: 340, loss = 0.8126\n",
      "epoch: 350, loss = 0.8062\n",
      "epoch: 360, loss = 0.8001\n",
      "epoch: 370, loss = 0.7943\n",
      "epoch: 380, loss = 0.7887\n",
      "epoch: 390, loss = 0.7834\n",
      "epoch: 400, loss = 0.7783\n",
      "epoch: 410, loss = 0.7734\n",
      "epoch: 420, loss = 0.7687\n",
      "epoch: 430, loss = 0.7642\n",
      "epoch: 440, loss = 0.7599\n",
      "epoch: 450, loss = 0.7557\n",
      "epoch: 460, loss = 0.7517\n",
      "epoch: 470, loss = 0.7479\n",
      "epoch: 480, loss = 0.7442\n",
      "epoch: 490, loss = 0.7407\n",
      "epoch: 500, loss = 0.7373\n",
      "epoch: 510, loss = 0.7340\n",
      "epoch: 520, loss = 0.7308\n",
      "epoch: 530, loss = 0.7278\n",
      "epoch: 540, loss = 0.7249\n",
      "epoch: 550, loss = 0.7220\n",
      "epoch: 560, loss = 0.7193\n",
      "epoch: 570, loss = 0.7166\n",
      "epoch: 580, loss = 0.7140\n",
      "epoch: 590, loss = 0.7116\n",
      "epoch: 600, loss = 0.7092\n",
      "epoch: 610, loss = 0.7068\n",
      "epoch: 620, loss = 0.7046\n",
      "epoch: 630, loss = 0.7024\n",
      "epoch: 640, loss = 0.7003\n",
      "epoch: 650, loss = 0.6982\n",
      "epoch: 660, loss = 0.6962\n",
      "epoch: 670, loss = 0.6943\n",
      "epoch: 680, loss = 0.6924\n",
      "epoch: 690, loss = 0.6906\n",
      "epoch: 700, loss = 0.6888\n",
      "epoch: 710, loss = 0.6871\n",
      "epoch: 720, loss = 0.6854\n",
      "epoch: 730, loss = 0.6838\n",
      "epoch: 740, loss = 0.6822\n",
      "epoch: 750, loss = 0.6807\n",
      "epoch: 760, loss = 0.6791\n",
      "epoch: 770, loss = 0.6777\n",
      "epoch: 780, loss = 0.6762\n",
      "epoch: 790, loss = 0.6749\n",
      "epoch: 800, loss = 0.6735\n",
      "epoch: 810, loss = 0.6722\n",
      "epoch: 820, loss = 0.6709\n",
      "epoch: 830, loss = 0.6696\n",
      "epoch: 840, loss = 0.6684\n",
      "epoch: 850, loss = 0.6672\n",
      "epoch: 860, loss = 0.6660\n",
      "epoch: 870, loss = 0.6649\n",
      "epoch: 880, loss = 0.6637\n",
      "epoch: 890, loss = 0.6626\n",
      "epoch: 900, loss = 0.6616\n",
      "epoch: 910, loss = 0.6605\n",
      "epoch: 920, loss = 0.6595\n",
      "epoch: 930, loss = 0.6585\n",
      "epoch: 940, loss = 0.6575\n",
      "epoch: 950, loss = 0.6565\n",
      "epoch: 960, loss = 0.6556\n",
      "epoch: 970, loss = 0.6547\n",
      "epoch: 980, loss = 0.6538\n",
      "epoch: 990, loss = 0.6529\n",
      "epoch: 1000, loss = 0.6520\n"
     ]
    },
    {
     "data": {
      "text/plain": "<Figure size 640x480 with 1 Axes>",
      "image/png": "[encoded data removed]"
     },
     "metadata": {},
     "output_type": "display_data"
    }
   ],
   "source": [
    "X = torch.from_numpy(X_numpy.astype(np.float32))\n",
    "y = torch.from_numpy(y_numpy.astype(np.float32))\n",
    "y = y.view(y.shape[0], 1)\n",
    "\n",
    "n_samples, n_features = X.shape\n",
    "\n",
    "input_size = 6\n",
    "output_size = 1\n",
    "model = nn.Sequential(\n",
    "    nn.Linear(input_size, output_size),\n",
    "    nn.Sigmoid()\n",
    ")\n",
    "\n",
    "learning_rate = 0.01\n",
    "\n",
    "criterion = nn.MSELoss()\n",
    "optimizer = torch.optim.SGD(model.parameters(), lr=learning_rate)\n",
    "\n",
    "num_epochs = 1000\n",
    "for epoch in range(num_epochs):\n",
    "    y_predicted = model(X)\n",
    "    loss = criterion(y_predicted, y)\n",
    "\n",
    "    loss.backward()\n",
    "    optimizer.step()\n",
    "\n",
    "    optimizer.zero_grad()\n",
    "\n",
    "    if (epoch+1) % 10 == 0:\n",
    "        print(f'epoch: {epoch+1}, loss = {loss.item():.4f}')\n",
    "\n",
    "predicted = model(X).detach().numpy()\n",
    "\n",
    "# plt.plot(X_numpy, y_numpy, 'ro')\n",
    "# plt.plot(X_numpy, predicted, 'b')\n",
    "# plt.show()"
   ],
   "metadata": {
    "collapsed": false,
    "ExecuteTime": {
     "end_time": "2023-06-11T14:32:52.618971Z",
     "start_time": "2023-06-11T14:32:52.382935Z"
    }
   }
  },
  {
   "cell_type": "code",
   "execution_count": 159,
   "outputs": [],
   "source": [
    "def predict_single(input, target, model):\n",
    "    inputs = input.unsqueeze(0)\n",
    "    predictions =  model(inputs)\n",
    "    prediction = predictions[0].detach()\n",
    "    print(\"Input:\", input)\n",
    "    print(\"Target:\", target)\n",
    "    print(\"Prediction:\", prediction)"
   ],
   "metadata": {
    "collapsed": false,
    "ExecuteTime": {
     "end_time": "2023-06-11T14:22:07.630196Z",
     "start_time": "2023-06-11T14:22:07.626399Z"
    }
   }
  },
  {
   "cell_type": "code",
   "execution_count": 161,
   "outputs": [
    {
     "name": "stdout",
     "output_type": "stream",
     "text": [
      "Input: tensor([ 1.4805, -1.0105,  0.8763, -0.9086,  0.5075,  1.3723])\n",
      "Target: tensor([-0.0034])\n",
      "Prediction: tensor([0.2735])\n"
     ]
    }
   ],
   "source": [
    "input, target = X[20], y[20]\n",
    "predict_single(input, target, model)"
   ],
   "metadata": {
    "collapsed": false,
    "ExecuteTime": {
     "end_time": "2023-06-11T14:22:08.174239Z",
     "start_time": "2023-06-11T14:22:08.165030Z"
    }
   }
  }
 ],
 "metadata": {
  "kernelspec": {
   "display_name": "Python 3",
   "language": "python",
   "name": "python3"
  },
  "language_info": {
   "codemirror_mode": {
    "name": "ipython",
    "version": 2
   },
   "file_extension": ".py",
   "mimetype": "text/x-python",
   "name": "python",
   "nbconvert_exporter": "python",
   "pygments_lexer": "ipython2",
   "version": "2.7.6"
  }
 },
 "nbformat": 4,
 "nbformat_minor": 0
}
