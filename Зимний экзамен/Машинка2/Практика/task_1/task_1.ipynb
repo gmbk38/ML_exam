{
 "cells": [
  {
   "cell_type": "code",
   "execution_count": 1,
   "metadata": {
    "pycharm": {
     "name": "#%%\n"
    }
   },
   "outputs": [],
   "source": [
    "# general imports\n",
    "\n",
    "import warnings  # noqa\n",
    "from pathlib import Path  # noqa\n",
    "\n",
    "import matplotlib.pyplot as plt  # noqa\n",
    "import numpy as np  # noqa\n",
    "import pandas as pd  # noqa\n",
    "import scipy as sp  # noqa\n",
    "import seaborn as sns  # noqa"
   ]
  },
  {
   "cell_type": "code",
   "execution_count": 2,
   "metadata": {
    "pycharm": {
     "name": "#%%\n"
    }
   },
   "outputs": [],
   "source": [
    "# sklearn imports\n",
    "\n",
    "from sklearn.exceptions import ConvergenceWarning, UndefinedMetricWarning\n",
    "from sklearn.preprocessing import OrdinalEncoder\n",
    "from sklearn.model_selection import train_test_split, GridSearchCV\n",
    "from sklearn.linear_model import LogisticRegression, SGDClassifier, RidgeClassifier, PassiveAggressiveClassifier\n",
    "from sklearn.svm import SVC, LinearSVC\n",
    "from sklearn.ensemble import RandomForestClassifier, ExtraTreesClassifier\n",
    "from sklearn.neural_network import MLPClassifier\n",
    "from sklearn.neighbors import KNeighborsClassifier\n",
    "from sklearn import metrics\n",
    "from sklearn.pipeline import Pipeline"
   ]
  },
  {
   "cell_type": "code",
   "execution_count": 3,
   "metadata": {
    "pycharm": {
     "name": "#%%\n"
    }
   },
   "outputs": [],
   "source": [
    "# magic functions\n",
    "# Editor > Code Style > Formatter > Turn formatter on/off with markers in code comments\n",
    "\n",
    "# @formatter:off\n",
    "%matplotlib inline\n",
    "# @formatter:on"
   ]
  },
  {
   "cell_type": "code",
   "execution_count": 4,
   "metadata": {
    "pycharm": {
     "name": "#%%\n"
    }
   },
   "outputs": [],
   "source": [
    "# plot config\n",
    "\n",
    "sns.set_theme(context='notebook', style='darkgrid')\n",
    "plt.rcParams['figure.figsize'] = (8, 4)"
   ]
  },
  {
   "cell_type": "code",
   "execution_count": 5,
   "metadata": {
    "pycharm": {
     "name": "#%%\n"
    }
   },
   "outputs": [],
   "source": [
    "# constants\n",
    "\n",
    "DATA_DIR = Path('../data/')"
   ]
  },
  {
   "cell_type": "markdown",
   "metadata": {
    "pycharm": {
     "name": "#%% md\n"
    }
   },
   "source": [
    "# Задание\n",
    "\n",
    "Очистка данных и обучение моделей.\n",
    "Датасет: https://www.kaggle.com/akshayksingh/kidney-disease-dataset"
   ]
  },
  {
   "cell_type": "markdown",
   "metadata": {
    "pycharm": {
     "name": "#%% md\n"
    }
   },
   "source": [
    "# Общие этапы\n",
    "\n",
    "- Загрузить датасет в Python.\n",
    "- Описать набор данных и решаемую задачу.\n",
    "- Выделить целевую переменную и факторные переменные.\n",
    "- Удалить ненужные данные, проанализировать отсутствующие значения.\n",
    "- Прокомментировать количественные параметры датасета.\n",
    "- Разбить выборку на обучающую и тестовую."
   ]
  },
  {
   "cell_type": "code",
   "execution_count": 6,
   "metadata": {
    "pycharm": {
     "name": "#%%\n"
    }
   },
   "outputs": [
    {
     "data": {
      "text/plain": "    age    bp     sg   al   su     rbc        pc         pcc          ba  \\\n0  48.0  80.0  1.020  1.0  0.0     NaN    normal  notpresent  notpresent   \n1   7.0  50.0  1.020  4.0  0.0     NaN    normal  notpresent  notpresent   \n2  62.0  80.0  1.010  2.0  3.0  normal    normal  notpresent  notpresent   \n3  48.0  70.0  1.005  4.0  0.0  normal  abnormal     present  notpresent   \n4  51.0  80.0  1.010  2.0  0.0  normal    normal  notpresent  notpresent   \n\n     bgr  ...  pcv    wc   rc  htn   dm cad appet   pe  ane classification  \n0  121.0  ...   44  7800  5.2  yes  yes  no  good   no   no            ckd  \n1    NaN  ...   38  6000  NaN   no   no  no  good   no   no            ckd  \n2  423.0  ...   31  7500  NaN   no  yes  no  poor   no  yes            ckd  \n3  117.0  ...   32  6700  3.9  yes   no  no  poor  yes  yes            ckd  \n4  106.0  ...   35  7300  4.6   no   no  no  good   no   no            ckd  \n\n[5 rows x 25 columns]",
      "text/html": "<div>\n<style scoped>\n    .dataframe tbody tr th:only-of-type {\n        vertical-align: middle;\n    }\n\n    .dataframe tbody tr th {\n        vertical-align: top;\n    }\n\n    .dataframe thead th {\n        text-align: right;\n    }\n</style>\n<table border=\"1\" class=\"dataframe\">\n  <thead>\n    <tr style=\"text-align: right;\">\n      <th></th>\n      <th>age</th>\n      <th>bp</th>\n      <th>sg</th>\n      <th>al</th>\n      <th>su</th>\n      <th>rbc</th>\n      <th>pc</th>\n      <th>pcc</th>\n      <th>ba</th>\n      <th>bgr</th>\n      <th>...</th>\n      <th>pcv</th>\n      <th>wc</th>\n      <th>rc</th>\n      <th>htn</th>\n      <th>dm</th>\n      <th>cad</th>\n      <th>appet</th>\n      <th>pe</th>\n      <th>ane</th>\n      <th>classification</th>\n    </tr>\n  </thead>\n  <tbody>\n    <tr>\n      <th>0</th>\n      <td>48.0</td>\n      <td>80.0</td>\n      <td>1.020</td>\n      <td>1.0</td>\n      <td>0.0</td>\n      <td>NaN</td>\n      <td>normal</td>\n      <td>notpresent</td>\n      <td>notpresent</td>\n      <td>121.0</td>\n      <td>...</td>\n      <td>44</td>\n      <td>7800</td>\n      <td>5.2</td>\n      <td>yes</td>\n      <td>yes</td>\n      <td>no</td>\n      <td>good</td>\n      <td>no</td>\n      <td>no</td>\n      <td>ckd</td>\n    </tr>\n    <tr>\n      <th>1</th>\n      <td>7.0</td>\n      <td>50.0</td>\n      <td>1.020</td>\n      <td>4.0</td>\n      <td>0.0</td>\n      <td>NaN</td>\n      <td>normal</td>\n      <td>notpresent</td>\n      <td>notpresent</td>\n      <td>NaN</td>\n      <td>...</td>\n      <td>38</td>\n      <td>6000</td>\n      <td>NaN</td>\n      <td>no</td>\n      <td>no</td>\n      <td>no</td>\n      <td>good</td>\n      <td>no</td>\n      <td>no</td>\n      <td>ckd</td>\n    </tr>\n    <tr>\n      <th>2</th>\n      <td>62.0</td>\n      <td>80.0</td>\n      <td>1.010</td>\n      <td>2.0</td>\n      <td>3.0</td>\n      <td>normal</td>\n      <td>normal</td>\n      <td>notpresent</td>\n      <td>notpresent</td>\n      <td>423.0</td>\n      <td>...</td>\n      <td>31</td>\n      <td>7500</td>\n      <td>NaN</td>\n      <td>no</td>\n      <td>yes</td>\n      <td>no</td>\n      <td>poor</td>\n      <td>no</td>\n      <td>yes</td>\n      <td>ckd</td>\n    </tr>\n    <tr>\n      <th>3</th>\n      <td>48.0</td>\n      <td>70.0</td>\n      <td>1.005</td>\n      <td>4.0</td>\n      <td>0.0</td>\n      <td>normal</td>\n      <td>abnormal</td>\n      <td>present</td>\n      <td>notpresent</td>\n      <td>117.0</td>\n      <td>...</td>\n      <td>32</td>\n      <td>6700</td>\n      <td>3.9</td>\n      <td>yes</td>\n      <td>no</td>\n      <td>no</td>\n      <td>poor</td>\n      <td>yes</td>\n      <td>yes</td>\n      <td>ckd</td>\n    </tr>\n    <tr>\n      <th>4</th>\n      <td>51.0</td>\n      <td>80.0</td>\n      <td>1.010</td>\n      <td>2.0</td>\n      <td>0.0</td>\n      <td>normal</td>\n      <td>normal</td>\n      <td>notpresent</td>\n      <td>notpresent</td>\n      <td>106.0</td>\n      <td>...</td>\n      <td>35</td>\n      <td>7300</td>\n      <td>4.6</td>\n      <td>no</td>\n      <td>no</td>\n      <td>no</td>\n      <td>good</td>\n      <td>no</td>\n      <td>no</td>\n      <td>ckd</td>\n    </tr>\n  </tbody>\n</table>\n<p>5 rows × 25 columns</p>\n</div>"
     },
     "execution_count": 6,
     "metadata": {},
     "output_type": "execute_result"
    }
   ],
   "source": [
    "df: pd.DataFrame = pd.read_csv(DATA_DIR / 'kidney_disease.csv')\n",
    "df = df.drop(columns=['id'])\n",
    "df.head()"
   ]
  },
  {
   "cell_type": "markdown",
   "metadata": {
    "pycharm": {
     "name": "#%% md\n"
    }
   },
   "source": [
    "Задача - задача **классификации** - на основании признаков (сахар, эритроциты, ...) определить есть ли у пациента хроническая болезнь почек (cdk) или нет."
   ]
  },
  {
   "cell_type": "code",
   "execution_count": 7,
   "metadata": {
    "pycharm": {
     "name": "#%%\n"
    }
   },
   "outputs": [
    {
     "name": "stdout",
     "output_type": "stream",
     "text": [
      "<class 'pandas.core.frame.DataFrame'>\n",
      "RangeIndex: 400 entries, 0 to 399\n",
      "Data columns (total 25 columns):\n",
      " #   Column          Non-Null Count  Dtype  \n",
      "---  ------          --------------  -----  \n",
      " 0   age             391 non-null    float64\n",
      " 1   bp              388 non-null    float64\n",
      " 2   sg              353 non-null    float64\n",
      " 3   al              354 non-null    float64\n",
      " 4   su              351 non-null    float64\n",
      " 5   rbc             248 non-null    object \n",
      " 6   pc              335 non-null    object \n",
      " 7   pcc             396 non-null    object \n",
      " 8   ba              396 non-null    object \n",
      " 9   bgr             356 non-null    float64\n",
      " 10  bu              381 non-null    float64\n",
      " 11  sc              383 non-null    float64\n",
      " 12  sod             313 non-null    float64\n",
      " 13  pot             312 non-null    float64\n",
      " 14  hemo            348 non-null    float64\n",
      " 15  pcv             330 non-null    object \n",
      " 16  wc              295 non-null    object \n",
      " 17  rc              270 non-null    object \n",
      " 18  htn             398 non-null    object \n",
      " 19  dm              398 non-null    object \n",
      " 20  cad             398 non-null    object \n",
      " 21  appet           399 non-null    object \n",
      " 22  pe              399 non-null    object \n",
      " 23  ane             399 non-null    object \n",
      " 24  classification  400 non-null    object \n",
      "dtypes: float64(11), object(14)\n",
      "memory usage: 78.2+ KB\n"
     ]
    }
   ],
   "source": [
    "df.info()"
   ]
  },
  {
   "cell_type": "markdown",
   "metadata": {
    "pycharm": {
     "name": "#%% md\n"
    }
   },
   "source": [
    "Датасет состоит из 25 колонок - 24 признака и 1 целевая переменная - `classification` (26-ая колонка `id` была удалена при загрузке данных, т.к. не несет никакой полезной информации для решения задачи) - и 400 строк.\n",
    "\n",
    "В датасете представлены как числовые, так и нечисловые категориальные признаки. Пресутсвуют пропуски."
   ]
  },
  {
   "cell_type": "markdown",
   "metadata": {
    "pycharm": {
     "name": "#%% md\n"
    }
   },
   "source": [
    "Можно заметить неожиданный тип данных `object` для признаков `pcv`, `wc`, `rc`,\n",
    "хотя в предварительном просмотре мы видели числовые значения.\n",
    "\n",
    "_Я заметил позже, но напишем об этом тут, чтобы не нарушать порядок повествования._\n",
    "\n",
    "Рассмотрим эти колонки подробнее:"
   ]
  },
  {
   "cell_type": "code",
   "execution_count": 8,
   "metadata": {
    "pycharm": {
     "name": "#%%\n"
    }
   },
   "outputs": [
    {
     "data": {
      "text/plain": "pcv    n: 400, num: 399, str: 1, {'\\t?'}\nwc     n: 400, num: 399, str: 1, {'\\t?'}\nrc     n: 400, num: 399, str: 1, {'\\t?'}\ndtype: object"
     },
     "execution_count": 8,
     "metadata": {},
     "output_type": "execute_result"
    }
   ],
   "source": [
    "def apply(s: pd.Series):\n",
    "    convert = [pd.to_numeric(x, errors='ignore') for x in s]\n",
    "    # не совсем верно использовать isinstance(x, str), но в данных задачах - и так сойдет\n",
    "    numeric = [x for x in convert if not isinstance(x, str)]\n",
    "    strings = [x for x in convert if isinstance(x, str)]\n",
    "    return f'n: {len(s)}, num: {len(numeric)}, str: {len(strings)}, {set(strings)}'\n",
    "\n",
    "\n",
    "problem_cols = ['pcv', 'wc', 'rc']\n",
    "df[problem_cols].apply(apply)"
   ]
  },
  {
   "cell_type": "markdown",
   "metadata": {
    "pycharm": {
     "name": "#%% md\n"
    }
   },
   "source": [
    "Аномальное значение `\\t?` (возможны еще какие-то аномальные строки по типу `\\t44`, с которыми `pd.to_numeric` успешно справился)\n",
    "не позволило pandas при считывании верно определить тип данных этих колонок.\n",
    "\n",
    "Приведем эти колонки к числовым типам, а аномальные значения временно заменим на NaN:"
   ]
  },
  {
   "cell_type": "code",
   "execution_count": 9,
   "metadata": {
    "pycharm": {
     "name": "#%%\n"
    }
   },
   "outputs": [
    {
     "data": {
      "text/plain": "pcv    float64\nwc     float64\nrc     float64\ndtype: object"
     },
     "execution_count": 9,
     "metadata": {},
     "output_type": "execute_result"
    }
   ],
   "source": [
    "df[problem_cols] = df[problem_cols].apply(lambda x: pd.to_numeric(x, errors='coerce'))\n",
    "df[problem_cols].dtypes"
   ]
  },
  {
   "cell_type": "markdown",
   "metadata": {
    "pycharm": {
     "name": "#%% md\n"
    }
   },
   "source": [
    "Описательная статистика для числовых признаков:"
   ]
  },
  {
   "cell_type": "code",
   "execution_count": 10,
   "metadata": {
    "pycharm": {
     "name": "#%%\n"
    }
   },
   "outputs": [
    {
     "data": {
      "text/plain": "              age          bp          sg          al          su         bgr  \\\ncount  391.000000  388.000000  353.000000  354.000000  351.000000  356.000000   \nmean    51.483376   76.469072    1.017408    1.016949    0.450142  148.036517   \nstd     17.169714   13.683637    0.005717    1.352679    1.099191   79.281714   \nmin      2.000000   50.000000    1.005000    0.000000    0.000000   22.000000   \n25%     42.000000   70.000000    1.010000    0.000000    0.000000   99.000000   \n50%     55.000000   80.000000    1.020000    0.000000    0.000000  121.000000   \n75%     64.500000   80.000000    1.020000    2.000000    0.000000  163.000000   \nmax     90.000000  180.000000    1.025000    5.000000    5.000000  490.000000   \n\n               bu          sc         sod         pot        hemo         pcv  \\\ncount  381.000000  383.000000  313.000000  312.000000  348.000000  329.000000   \nmean    57.425722    3.072454  137.528754    4.627244   12.526437   38.884498   \nstd     50.503006    5.741126   10.408752    3.193904    2.912587    8.990105   \nmin      1.500000    0.400000    4.500000    2.500000    3.100000    9.000000   \n25%     27.000000    0.900000  135.000000    3.800000   10.300000   32.000000   \n50%     42.000000    1.300000  138.000000    4.400000   12.650000   40.000000   \n75%     66.000000    2.800000  142.000000    4.900000   15.000000   45.000000   \nmax    391.000000   76.000000  163.000000   47.000000   17.800000   54.000000   \n\n                 wc          rc  \ncount    294.000000  269.000000  \nmean    8406.122449    4.707435  \nstd     2944.474190    1.025323  \nmin     2200.000000    2.100000  \n25%     6500.000000    3.900000  \n50%     8000.000000    4.800000  \n75%     9800.000000    5.400000  \nmax    26400.000000    8.000000  ",
      "text/html": "<div>\n<style scoped>\n    .dataframe tbody tr th:only-of-type {\n        vertical-align: middle;\n    }\n\n    .dataframe tbody tr th {\n        vertical-align: top;\n    }\n\n    .dataframe thead th {\n        text-align: right;\n    }\n</style>\n<table border=\"1\" class=\"dataframe\">\n  <thead>\n    <tr style=\"text-align: right;\">\n      <th></th>\n      <th>age</th>\n      <th>bp</th>\n      <th>sg</th>\n      <th>al</th>\n      <th>su</th>\n      <th>bgr</th>\n      <th>bu</th>\n      <th>sc</th>\n      <th>sod</th>\n      <th>pot</th>\n      <th>hemo</th>\n      <th>pcv</th>\n      <th>wc</th>\n      <th>rc</th>\n    </tr>\n  </thead>\n  <tbody>\n    <tr>\n      <th>count</th>\n      <td>391.000000</td>\n      <td>388.000000</td>\n      <td>353.000000</td>\n      <td>354.000000</td>\n      <td>351.000000</td>\n      <td>356.000000</td>\n      <td>381.000000</td>\n      <td>383.000000</td>\n      <td>313.000000</td>\n      <td>312.000000</td>\n      <td>348.000000</td>\n      <td>329.000000</td>\n      <td>294.000000</td>\n      <td>269.000000</td>\n    </tr>\n    <tr>\n      <th>mean</th>\n      <td>51.483376</td>\n      <td>76.469072</td>\n      <td>1.017408</td>\n      <td>1.016949</td>\n      <td>0.450142</td>\n      <td>148.036517</td>\n      <td>57.425722</td>\n      <td>3.072454</td>\n      <td>137.528754</td>\n      <td>4.627244</td>\n      <td>12.526437</td>\n      <td>38.884498</td>\n      <td>8406.122449</td>\n      <td>4.707435</td>\n    </tr>\n    <tr>\n      <th>std</th>\n      <td>17.169714</td>\n      <td>13.683637</td>\n      <td>0.005717</td>\n      <td>1.352679</td>\n      <td>1.099191</td>\n      <td>79.281714</td>\n      <td>50.503006</td>\n      <td>5.741126</td>\n      <td>10.408752</td>\n      <td>3.193904</td>\n      <td>2.912587</td>\n      <td>8.990105</td>\n      <td>2944.474190</td>\n      <td>1.025323</td>\n    </tr>\n    <tr>\n      <th>min</th>\n      <td>2.000000</td>\n      <td>50.000000</td>\n      <td>1.005000</td>\n      <td>0.000000</td>\n      <td>0.000000</td>\n      <td>22.000000</td>\n      <td>1.500000</td>\n      <td>0.400000</td>\n      <td>4.500000</td>\n      <td>2.500000</td>\n      <td>3.100000</td>\n      <td>9.000000</td>\n      <td>2200.000000</td>\n      <td>2.100000</td>\n    </tr>\n    <tr>\n      <th>25%</th>\n      <td>42.000000</td>\n      <td>70.000000</td>\n      <td>1.010000</td>\n      <td>0.000000</td>\n      <td>0.000000</td>\n      <td>99.000000</td>\n      <td>27.000000</td>\n      <td>0.900000</td>\n      <td>135.000000</td>\n      <td>3.800000</td>\n      <td>10.300000</td>\n      <td>32.000000</td>\n      <td>6500.000000</td>\n      <td>3.900000</td>\n    </tr>\n    <tr>\n      <th>50%</th>\n      <td>55.000000</td>\n      <td>80.000000</td>\n      <td>1.020000</td>\n      <td>0.000000</td>\n      <td>0.000000</td>\n      <td>121.000000</td>\n      <td>42.000000</td>\n      <td>1.300000</td>\n      <td>138.000000</td>\n      <td>4.400000</td>\n      <td>12.650000</td>\n      <td>40.000000</td>\n      <td>8000.000000</td>\n      <td>4.800000</td>\n    </tr>\n    <tr>\n      <th>75%</th>\n      <td>64.500000</td>\n      <td>80.000000</td>\n      <td>1.020000</td>\n      <td>2.000000</td>\n      <td>0.000000</td>\n      <td>163.000000</td>\n      <td>66.000000</td>\n      <td>2.800000</td>\n      <td>142.000000</td>\n      <td>4.900000</td>\n      <td>15.000000</td>\n      <td>45.000000</td>\n      <td>9800.000000</td>\n      <td>5.400000</td>\n    </tr>\n    <tr>\n      <th>max</th>\n      <td>90.000000</td>\n      <td>180.000000</td>\n      <td>1.025000</td>\n      <td>5.000000</td>\n      <td>5.000000</td>\n      <td>490.000000</td>\n      <td>391.000000</td>\n      <td>76.000000</td>\n      <td>163.000000</td>\n      <td>47.000000</td>\n      <td>17.800000</td>\n      <td>54.000000</td>\n      <td>26400.000000</td>\n      <td>8.000000</td>\n    </tr>\n  </tbody>\n</table>\n</div>"
     },
     "execution_count": 10,
     "metadata": {},
     "output_type": "execute_result"
    }
   ],
   "source": [
    "df.describe()"
   ]
  },
  {
   "cell_type": "markdown",
   "metadata": {
    "pycharm": {
     "name": "#%% md\n"
    }
   },
   "source": [
    "_Очень сложно работать с английскими сокращениями медицинских терминов (лейкоциты, эритроциты) без знаний в этой области,\n",
    "поэтому сделаем допущение, что все числовые признаки - честные числовые непрерывные или дискретные данные._"
   ]
  },
  {
   "cell_type": "markdown",
   "metadata": {
    "pycharm": {
     "name": "#%% md\n"
    }
   },
   "source": [
    "Посмотрим на шкалы категориальных признаков:"
   ]
  },
  {
   "cell_type": "code",
   "execution_count": 11,
   "metadata": {
    "pycharm": {
     "name": "#%%\n"
    }
   },
   "outputs": [
    {
     "data": {
      "text/plain": "rbc                         [nan, normal, abnormal]\npc                          [normal, abnormal, nan]\npcc                      [notpresent, present, nan]\nba                       [notpresent, present, nan]\nhtn                                  [yes, no, nan]\ndm                [yes, no,  yes, \\tno, \\tyes, nan]\ncad                            [no, yes, \\tno, nan]\nappet                             [good, poor, nan]\npe                                   [no, yes, nan]\nane                                  [no, yes, nan]\nclassification                 [ckd, ckd\\t, notckd]\ndtype: object"
     },
     "execution_count": 11,
     "metadata": {},
     "output_type": "execute_result"
    }
   ],
   "source": [
    "categorical_cols = df.columns[df.dtypes == object]\n",
    "\n",
    "df[categorical_cols].apply(lambda s: s.unique())"
   ]
  },
  {
   "cell_type": "markdown",
   "metadata": {
    "pycharm": {
     "name": "#%% md\n"
    }
   },
   "source": [
    "Видно, что некоторые значения категориальных данных \"болеют пробельными символами\",\n",
    "из-за этого шкалы ошибочно расширяются.\n",
    "\n",
    "Удалим лишние пробельные символы:"
   ]
  },
  {
   "cell_type": "code",
   "execution_count": 12,
   "metadata": {
    "pycharm": {
     "name": "#%%\n"
    }
   },
   "outputs": [
    {
     "data": {
      "text/plain": "rbc                  [nan, normal, abnormal]\npc                   [normal, abnormal, nan]\npcc               [notpresent, present, nan]\nba                [notpresent, present, nan]\nhtn                           [yes, no, nan]\ndm                            [yes, no, nan]\ncad                           [no, yes, nan]\nappet                      [good, poor, nan]\npe                            [no, yes, nan]\nane                           [no, yes, nan]\nclassification                 [ckd, notckd]\ndtype: object"
     },
     "execution_count": 12,
     "metadata": {},
     "output_type": "execute_result"
    }
   ],
   "source": [
    "df[categorical_cols] = df[categorical_cols].apply(lambda s: s.str.strip())\n",
    "\n",
    "df[categorical_cols].apply(lambda s: s.unique())"
   ]
  },
  {
   "cell_type": "markdown",
   "metadata": {
    "pycharm": {
     "name": "#%% md\n"
    }
   },
   "source": [
    "Видно, что все категориальные признаки являются **номинальными** и даже бинарными (если не рассматривать пропуски как 3-ий тип значений):\n",
    "- `normal - abnormal`\n",
    "- `present - notpresent`\n",
    "- `yes - no`\n",
    "- `good - poor`\n",
    "\n",
    "Целевая переменная принимает значения `ckd` - есть хроническая болезнь почек, `notckd` - нет."
   ]
  },
  {
   "cell_type": "markdown",
   "metadata": {
    "pycharm": {
     "name": "#%% md\n"
    }
   },
   "source": [
    "Последнее, проверим распределение целевой переменной:"
   ]
  },
  {
   "cell_type": "code",
   "execution_count": 13,
   "metadata": {
    "pycharm": {
     "name": "#%%\n"
    }
   },
   "outputs": [
    {
     "data": {
      "text/plain": "<Figure size 576x288 with 1 Axes>",
      "image/png": "[encoded data removed]"
     },
     "metadata": {},
     "output_type": "display_data"
    }
   ],
   "source": [
    "sns.histplot(x=df['classification']);"
   ]
  },
  {
   "cell_type": "markdown",
   "metadata": {
    "pycharm": {
     "name": "#%% md\n"
    }
   },
   "source": [
    "Явной несбалансированности классов невыявлено."
   ]
  },
  {
   "cell_type": "markdown",
   "metadata": {
    "pycharm": {
     "name": "#%% md\n"
    }
   },
   "source": [
    "_Работу с пропусками, удаление лишних признаков и разбиение на обучающую и тестовую выборки проведем в следующем разделе, т.к. это является частью основного задания_"
   ]
  },
  {
   "cell_type": "markdown",
   "metadata": {
    "pycharm": {
     "name": "#%% md\n"
    }
   },
   "source": [
    "# Очистка данных и обучение моделей"
   ]
  },
  {
   "cell_type": "markdown",
   "metadata": {
    "pycharm": {
     "name": "#%% md\n"
    }
   },
   "source": [
    "Попробуем выявить ненужные признаки.\n",
    "Делать предположения о важности имеющихся признаков невозможно (я не знаю) _(и не рекомендуется)_.\n",
    "\n",
    "Попробуем выявить мультиколлинеарные признаки, проанализировав матрицу взаимных корреляций:"
   ]
  },
  {
   "cell_type": "code",
   "execution_count": 14,
   "metadata": {
    "pycharm": {
     "name": "#%%\n"
    }
   },
   "outputs": [
    {
     "data": {
      "text/plain": "<Figure size 1296x792 with 1 Axes>",
      "image/png": "[encoded data removed]"
     },
     "metadata": {},
     "output_type": "display_data"
    }
   ],
   "source": [
    "corr_abs = df[df.columns[:-1]].corr().abs()\n",
    "\n",
    "_, ax = plt.subplots(figsize=(18, 11))\n",
    "sns.heatmap(corr_abs, ax=ax, cbar=False, annot=True);"
   ]
  },
  {
   "cell_type": "code",
   "execution_count": 15,
   "metadata": {
    "pycharm": {
     "name": "#%%\n"
    }
   },
   "outputs": [
    {
     "data": {
      "text/plain": "Series([], dtype: int64)"
     },
     "execution_count": 15,
     "metadata": {},
     "output_type": "execute_result"
    }
   ],
   "source": [
    "threshold = 0.9\n",
    "cnt = pd.notna(corr_abs[corr_abs > threshold]).sum()\n",
    "cnt[cnt > 1]  # одно значение == 1 - self-корреляция"
   ]
  },
  {
   "cell_type": "markdown",
   "metadata": {
    "pycharm": {
     "name": "#%% md\n"
    }
   },
   "source": [
    "Проблема мультиколлинеарности незамеченна. Все признаки оставим в наборе и будем считать их значимыми."
   ]
  },
  {
   "cell_type": "markdown",
   "metadata": {
    "pycharm": {
     "name": "#%% md\n"
    }
   },
   "source": [
    "Прежде чем что-то делать с пропусками, посмотрим на их количество в колонках:"
   ]
  },
  {
   "cell_type": "code",
   "execution_count": 16,
   "metadata": {
    "pycharm": {
     "name": "#%%\n"
    }
   },
   "outputs": [
    {
     "data": {
      "text/plain": "rbc      152\nrc       131\nwc       106\npot       88\nsod       87\npcv       71\npc        65\nhemo      52\nsu        49\nsg        47\nal        46\nbgr       44\nbu        19\nsc        17\nbp        12\nage        9\nba         4\npcc        4\nhtn        2\ndm         2\ncad        2\nappet      1\npe         1\nane        1\ndtype: int64"
     },
     "execution_count": 16,
     "metadata": {},
     "output_type": "execute_result"
    }
   ],
   "source": [
    "cnt = df.isna().sum()\n",
    "cnt[cnt > 0].sort_values(ascending=False)"
   ]
  },
  {
   "cell_type": "markdown",
   "metadata": {
    "pycharm": {
     "name": "#%% md\n"
    }
   },
   "source": [
    "В некоторых колонках пропусков очень много, поэтому просто удалить пропуски нельзя. Поэтому попробуем стратегию:\n",
    "1. удалим признаки `rbc`, `rc` и `wc` - очень много пропусков\n",
    "2. пропуски в категориальных и дискретных восстановим модой\n",
    "3. пропуски в `pot`, `sod`, `pcv`, `hemo` заменим средним - много пропусков\n",
    "4. удалим остальные пропуски"
   ]
  },
  {
   "cell_type": "code",
   "execution_count": 17,
   "metadata": {
    "pycharm": {
     "name": "#%%\n"
    }
   },
   "outputs": [],
   "source": [
    "# 1\n",
    "drop = ['rbc', 'rc', 'wc']\n",
    "tidy = df.drop(columns=drop)"
   ]
  },
  {
   "cell_type": "code",
   "execution_count": 18,
   "metadata": {
    "pycharm": {
     "name": "#%%\n"
    }
   },
   "outputs": [
    {
     "data": {
      "text/plain": "appet          good\nane              no\npcc      notpresent\ndm               no\ncad              no\nage            60.0\npe               no\nhtn              no\npc           normal\nba       notpresent\nName: 0, dtype: object"
     },
     "execution_count": 18,
     "metadata": {},
     "output_type": "execute_result"
    }
   ],
   "source": [
    "# 2\n",
    "mode_cols = list({'age', *tidy.columns[tidy.dtypes == object]} - {'classification'})\n",
    "mode = tidy[mode_cols].mode().squeeze(axis=0)\n",
    "tidy[mode_cols] = tidy[mode_cols].fillna(mode)\n",
    "mode"
   ]
  },
  {
   "cell_type": "code",
   "execution_count": 19,
   "metadata": {
    "pycharm": {
     "name": "#%%\n"
    }
   },
   "outputs": [
    {
     "data": {
      "text/plain": "pot       4.627244\nsod     137.528754\npcv      38.884498\nhemo     12.526437\ndtype: float64"
     },
     "execution_count": 19,
     "metadata": {},
     "output_type": "execute_result"
    }
   ],
   "source": [
    "# 3\n",
    "mean_cols = ['pot', 'sod', 'pcv', 'hemo']\n",
    "mean = tidy[mean_cols].mean()\n",
    "tidy[mean_cols] = tidy[mean_cols].fillna(mean)\n",
    "mean"
   ]
  },
  {
   "cell_type": "code",
   "execution_count": 20,
   "metadata": {
    "pycharm": {
     "name": "#%%\n"
    }
   },
   "outputs": [
    {
     "name": "stdout",
     "output_type": "stream",
     "text": [
      "Было: 400\n",
      "Осталось: 300\n",
      "Удалось сохранить: 75%\n"
     ]
    }
   ],
   "source": [
    "# 4\n",
    "tidy = tidy.dropna()\n",
    "print(f'Было: {len(df)}\\n'\n",
    "      f'Осталось: {len(tidy)}\\n'\n",
    "      f'Удалось сохранить: {len(tidy) / len(df) * 100:g}%')"
   ]
  },
  {
   "cell_type": "markdown",
   "metadata": {
    "pycharm": {
     "name": "#%% md\n"
    }
   },
   "source": [
    "Преобразуем категориальные признаки в числовые:"
   ]
  },
  {
   "cell_type": "code",
   "execution_count": 21,
   "metadata": {
    "pycharm": {
     "name": "#%%\n"
    }
   },
   "outputs": [
    {
     "data": {
      "text/plain": "[array(['abnormal', 'normal'], dtype=object),\n array(['notpresent', 'present'], dtype=object),\n array(['notpresent', 'present'], dtype=object),\n array(['no', 'yes'], dtype=object),\n array(['no', 'yes'], dtype=object),\n array(['no', 'yes'], dtype=object),\n array(['good', 'poor'], dtype=object),\n array(['no', 'yes'], dtype=object),\n array(['no', 'yes'], dtype=object),\n array(['ckd', 'notckd'], dtype=object)]"
     },
     "execution_count": 21,
     "metadata": {},
     "output_type": "execute_result"
    }
   ],
   "source": [
    "# хотя для целевой переменной документация sklearn рекомендует применять LabelEncoder,\n",
    "# в данном случае проще и очевиднее сделать так:\n",
    "categorical_cols = tidy.columns[tidy.dtypes == object]\n",
    "\n",
    "enc = OrdinalEncoder()\n",
    "enc.fit(tidy[categorical_cols])\n",
    "enc.categories_"
   ]
  },
  {
   "cell_type": "code",
   "execution_count": 22,
   "metadata": {
    "pycharm": {
     "name": "#%%\n"
    }
   },
   "outputs": [
    {
     "data": {
      "text/plain": "    pc  pcc   ba  htn   dm  cad  appet   pe  ane  classification\n0  1.0  0.0  0.0  1.0  1.0  0.0    0.0  0.0  0.0             0.0\n2  1.0  0.0  0.0  0.0  1.0  0.0    1.0  0.0  1.0             0.0\n3  0.0  1.0  0.0  1.0  0.0  0.0    1.0  1.0  1.0             0.0\n4  1.0  0.0  0.0  0.0  0.0  0.0    0.0  0.0  0.0             0.0\n5  1.0  0.0  0.0  1.0  1.0  0.0    0.0  1.0  0.0             0.0",
      "text/html": "<div>\n<style scoped>\n    .dataframe tbody tr th:only-of-type {\n        vertical-align: middle;\n    }\n\n    .dataframe tbody tr th {\n        vertical-align: top;\n    }\n\n    .dataframe thead th {\n        text-align: right;\n    }\n</style>\n<table border=\"1\" class=\"dataframe\">\n  <thead>\n    <tr style=\"text-align: right;\">\n      <th></th>\n      <th>pc</th>\n      <th>pcc</th>\n      <th>ba</th>\n      <th>htn</th>\n      <th>dm</th>\n      <th>cad</th>\n      <th>appet</th>\n      <th>pe</th>\n      <th>ane</th>\n      <th>classification</th>\n    </tr>\n  </thead>\n  <tbody>\n    <tr>\n      <th>0</th>\n      <td>1.0</td>\n      <td>0.0</td>\n      <td>0.0</td>\n      <td>1.0</td>\n      <td>1.0</td>\n      <td>0.0</td>\n      <td>0.0</td>\n      <td>0.0</td>\n      <td>0.0</td>\n      <td>0.0</td>\n    </tr>\n    <tr>\n      <th>2</th>\n      <td>1.0</td>\n      <td>0.0</td>\n      <td>0.0</td>\n      <td>0.0</td>\n      <td>1.0</td>\n      <td>0.0</td>\n      <td>1.0</td>\n      <td>0.0</td>\n      <td>1.0</td>\n      <td>0.0</td>\n    </tr>\n    <tr>\n      <th>3</th>\n      <td>0.0</td>\n      <td>1.0</td>\n      <td>0.0</td>\n      <td>1.0</td>\n      <td>0.0</td>\n      <td>0.0</td>\n      <td>1.0</td>\n      <td>1.0</td>\n      <td>1.0</td>\n      <td>0.0</td>\n    </tr>\n    <tr>\n      <th>4</th>\n      <td>1.0</td>\n      <td>0.0</td>\n      <td>0.0</td>\n      <td>0.0</td>\n      <td>0.0</td>\n      <td>0.0</td>\n      <td>0.0</td>\n      <td>0.0</td>\n      <td>0.0</td>\n      <td>0.0</td>\n    </tr>\n    <tr>\n      <th>5</th>\n      <td>1.0</td>\n      <td>0.0</td>\n      <td>0.0</td>\n      <td>1.0</td>\n      <td>1.0</td>\n      <td>0.0</td>\n      <td>0.0</td>\n      <td>1.0</td>\n      <td>0.0</td>\n      <td>0.0</td>\n    </tr>\n  </tbody>\n</table>\n</div>"
     },
     "execution_count": 22,
     "metadata": {},
     "output_type": "execute_result"
    }
   ],
   "source": [
    "tidy[categorical_cols] = enc.transform(tidy[categorical_cols])\n",
    "tidy[categorical_cols].head()"
   ]
  },
  {
   "cell_type": "markdown",
   "metadata": {
    "pycharm": {
     "name": "#%% md\n"
    }
   },
   "source": [
    "Выделим целевую переменную и разделим выборку на обучающую и тестовую:"
   ]
  },
  {
   "cell_type": "code",
   "execution_count": 23,
   "metadata": {
    "pycharm": {
     "name": "#%%\n"
    }
   },
   "outputs": [],
   "source": [
    "X, y = tidy[tidy.columns[:-1]], tidy[tidy.columns[-1]]"
   ]
  },
  {
   "cell_type": "code",
   "execution_count": 24,
   "metadata": {
    "pycharm": {
     "name": "#%%\n"
    }
   },
   "outputs": [],
   "source": [
    "X_train, X_test, y_train, y_test = train_test_split(X, y, test_size=0.2, random_state=0)"
   ]
  },
  {
   "cell_type": "markdown",
   "metadata": {
    "pycharm": {
     "name": "#%% md\n"
    }
   },
   "source": [
    "Рассмотрим наиболее популярные классификаторы. Оценивать будем с помощью кросс-валидации по метрикам:\n",
    "- accuracy\n",
    "- precision\n",
    "- recall\n",
    "- f1-score - приоритет!\n",
    "- fit time\n",
    "- score time"
   ]
  },
  {
   "cell_type": "code",
   "execution_count": 25,
   "metadata": {
    "pycharm": {
     "name": "#%%\n"
    }
   },
   "outputs": [],
   "source": [
    "estimator = Pipeline([\n",
    "    ('clf', LogisticRegression())\n",
    "])"
   ]
  },
  {
   "cell_type": "code",
   "execution_count": 26,
   "metadata": {
    "pycharm": {
     "name": "#%%\n"
    }
   },
   "outputs": [],
   "source": [
    "estimate_param_grid = [{\n",
    "    'clf': [\n",
    "        LogisticRegression(random_state=0),\n",
    "        KNeighborsClassifier(),\n",
    "        SVC(random_state=0),\n",
    "        LinearSVC(random_state=0),\n",
    "        PassiveAggressiveClassifier(random_state=0),\n",
    "        RandomForestClassifier(random_state=0),\n",
    "        ExtraTreesClassifier(random_state=0),\n",
    "        RidgeClassifier(random_state=0),\n",
    "        MLPClassifier(random_state=0),\n",
    "        SGDClassifier(loss='hinge', random_state=0),  # LinearSVC\n",
    "        SGDClassifier(loss='log_loss', random_state=0),  # LogisticRegression\n",
    "        SGDClassifier(loss='modified_huber', random_state=0),  # толерантность к выбросам\n",
    "        SGDClassifier(loss='squared_hinge', random_state=0),  # SVC с квадратичным штрафом\n",
    "        SGDClassifier(loss='perceptron', random_state=0),  # MLP\n",
    "    ]\n",
    "}]\n",
    "\n",
    "scoring = ['accuracy', 'precision_weighted', 'recall_weighted', 'f1_weighted']\n",
    "\n",
    "grid_search = GridSearchCV(\n",
    "    estimator,\n",
    "    estimate_param_grid,\n",
    "    scoring=scoring,\n",
    "    refit='f1_weighted',\n",
    "    cv=3,\n",
    "    verbose=4,\n",
    "    n_jobs=4,\n",
    ")"
   ]
  },
  {
   "cell_type": "code",
   "execution_count": 27,
   "metadata": {
    "pycharm": {
     "name": "#%%\n"
    }
   },
   "outputs": [
    {
     "name": "stdout",
     "output_type": "stream",
     "text": [
      "Fitting 3 folds for each of 14 candidates, totalling 42 fits\n"
     ]
    }
   ],
   "source": [
    "if __name__ == '__main__':\n",
    "    with warnings.catch_warnings():\n",
    "        warnings.simplefilter('ignore', category=ConvergenceWarning)\n",
    "        warnings.simplefilter('ignore', category=UndefinedMetricWarning)\n",
    "        grid_search.fit(X_train, y_train)"
   ]
  },
  {
   "cell_type": "code",
   "execution_count": 28,
   "metadata": {
    "pycharm": {
     "name": "#%%\n"
    }
   },
   "outputs": [],
   "source": [
    "keys = [\n",
    "    'params',\n",
    "    'mean_test_f1_weighted',\n",
    "    'mean_fit_time',\n",
    "    'mean_score_time',\n",
    "    'mean_test_accuracy',\n",
    "    'mean_test_precision_weighted',\n",
    "    'mean_test_recall_weighted',\n",
    "]\n",
    "\n",
    "report = pd.DataFrame(grid_search.cv_results_)[keys]\n",
    "report['params'] = report['params'].apply(lambda x: str(x['clf']).replace('random_state=0', ''))\n",
    "report = report.rename(columns=lambda x: x.replace('_test', '').replace('_weighted', '').replace('mean_', ''))"
   ]
  },
  {
   "cell_type": "markdown",
   "metadata": {
    "pycharm": {
     "name": "#%% md\n"
    }
   },
   "source": [
    "Сравнение моделей:"
   ]
  },
  {
   "cell_type": "code",
   "execution_count": 29,
   "metadata": {
    "pycharm": {
     "name": "#%%\n"
    }
   },
   "outputs": [
    {
     "data": {
      "text/plain": "                                    params        f1  fit_time  score_time  \\\n6                   ExtraTreesClassifier()  0.995838  0.085710    0.009654   \n5                 RandomForestClassifier()  0.991653  0.122933    0.014351   \n0                     LogisticRegression()  0.979213  0.033739    0.005334   \n7                        RidgeClassifier()  0.945987  0.003508    0.002369   \n8                          MLPClassifier()  0.908259  0.086794    0.004003   \n9                          SGDClassifier()  0.898839  0.004072    0.004333   \n13      SGDClassifier(loss='perceptron', )  0.898839  0.001680    0.003346   \n12   SGDClassifier(loss='squared_hinge', )  0.881724  0.003350    0.003350   \n10        SGDClassifier(loss='log_loss', )  0.879996  0.003667    0.004369   \n1                   KNeighborsClassifier()  0.857754  0.001513    0.113034   \n3                              LinearSVC()  0.855463  0.009391    0.005202   \n11  SGDClassifier(loss='modified_huber', )  0.854496  0.002002    0.004434   \n2                                    SVC()  0.852708  0.004674    0.006367   \n4            PassiveAggressiveClassifier()  0.711204  0.005055    0.005999   \n\n    accuracy  precision    recall  \n6   0.995833   0.995946  0.995833  \n5   0.991667   0.991850  0.991667  \n0   0.979167   0.980946  0.979167  \n7   0.945833   0.952800  0.945833  \n8   0.908333   0.911449  0.908333  \n9   0.900000   0.912643  0.900000  \n13  0.900000   0.912643  0.900000  \n12  0.883333   0.891477  0.883333  \n10  0.883333   0.894101  0.883333  \n1   0.858333   0.883177  0.858333  \n3   0.866667   0.901846  0.866667  \n11  0.858333   0.872992  0.858333  \n2   0.854167   0.892821  0.854167  \n4   0.733333   0.816175  0.733333  ",
      "text/html": "<div>\n<style scoped>\n    .dataframe tbody tr th:only-of-type {\n        vertical-align: middle;\n    }\n\n    .dataframe tbody tr th {\n        vertical-align: top;\n    }\n\n    .dataframe thead th {\n        text-align: right;\n    }\n</style>\n<table border=\"1\" class=\"dataframe\">\n  <thead>\n    <tr style=\"text-align: right;\">\n      <th></th>\n      <th>params</th>\n      <th>f1</th>\n      <th>fit_time</th>\n      <th>score_time</th>\n      <th>accuracy</th>\n      <th>precision</th>\n      <th>recall</th>\n    </tr>\n  </thead>\n  <tbody>\n    <tr>\n      <th>6</th>\n      <td>ExtraTreesClassifier()</td>\n      <td>0.995838</td>\n      <td>0.085710</td>\n      <td>0.009654</td>\n      <td>0.995833</td>\n      <td>0.995946</td>\n      <td>0.995833</td>\n    </tr>\n    <tr>\n      <th>5</th>\n      <td>RandomForestClassifier()</td>\n      <td>0.991653</td>\n      <td>0.122933</td>\n      <td>0.014351</td>\n      <td>0.991667</td>\n      <td>0.991850</td>\n      <td>0.991667</td>\n    </tr>\n    <tr>\n      <th>0</th>\n      <td>LogisticRegression()</td>\n      <td>0.979213</td>\n      <td>0.033739</td>\n      <td>0.005334</td>\n      <td>0.979167</td>\n      <td>0.980946</td>\n      <td>0.979167</td>\n    </tr>\n    <tr>\n      <th>7</th>\n      <td>RidgeClassifier()</td>\n      <td>0.945987</td>\n      <td>0.003508</td>\n      <td>0.002369</td>\n      <td>0.945833</td>\n      <td>0.952800</td>\n      <td>0.945833</td>\n    </tr>\n    <tr>\n      <th>8</th>\n      <td>MLPClassifier()</td>\n      <td>0.908259</td>\n      <td>0.086794</td>\n      <td>0.004003</td>\n      <td>0.908333</td>\n      <td>0.911449</td>\n      <td>0.908333</td>\n    </tr>\n    <tr>\n      <th>9</th>\n      <td>SGDClassifier()</td>\n      <td>0.898839</td>\n      <td>0.004072</td>\n      <td>0.004333</td>\n      <td>0.900000</td>\n      <td>0.912643</td>\n      <td>0.900000</td>\n    </tr>\n    <tr>\n      <th>13</th>\n      <td>SGDClassifier(loss='perceptron', )</td>\n      <td>0.898839</td>\n      <td>0.001680</td>\n      <td>0.003346</td>\n      <td>0.900000</td>\n      <td>0.912643</td>\n      <td>0.900000</td>\n    </tr>\n    <tr>\n      <th>12</th>\n      <td>SGDClassifier(loss='squared_hinge', )</td>\n      <td>0.881724</td>\n      <td>0.003350</td>\n      <td>0.003350</td>\n      <td>0.883333</td>\n      <td>0.891477</td>\n      <td>0.883333</td>\n    </tr>\n    <tr>\n      <th>10</th>\n      <td>SGDClassifier(loss='log_loss', )</td>\n      <td>0.879996</td>\n      <td>0.003667</td>\n      <td>0.004369</td>\n      <td>0.883333</td>\n      <td>0.894101</td>\n      <td>0.883333</td>\n    </tr>\n    <tr>\n      <th>1</th>\n      <td>KNeighborsClassifier()</td>\n      <td>0.857754</td>\n      <td>0.001513</td>\n      <td>0.113034</td>\n      <td>0.858333</td>\n      <td>0.883177</td>\n      <td>0.858333</td>\n    </tr>\n    <tr>\n      <th>3</th>\n      <td>LinearSVC()</td>\n      <td>0.855463</td>\n      <td>0.009391</td>\n      <td>0.005202</td>\n      <td>0.866667</td>\n      <td>0.901846</td>\n      <td>0.866667</td>\n    </tr>\n    <tr>\n      <th>11</th>\n      <td>SGDClassifier(loss='modified_huber', )</td>\n      <td>0.854496</td>\n      <td>0.002002</td>\n      <td>0.004434</td>\n      <td>0.858333</td>\n      <td>0.872992</td>\n      <td>0.858333</td>\n    </tr>\n    <tr>\n      <th>2</th>\n      <td>SVC()</td>\n      <td>0.852708</td>\n      <td>0.004674</td>\n      <td>0.006367</td>\n      <td>0.854167</td>\n      <td>0.892821</td>\n      <td>0.854167</td>\n    </tr>\n    <tr>\n      <th>4</th>\n      <td>PassiveAggressiveClassifier()</td>\n      <td>0.711204</td>\n      <td>0.005055</td>\n      <td>0.005999</td>\n      <td>0.733333</td>\n      <td>0.816175</td>\n      <td>0.733333</td>\n    </tr>\n  </tbody>\n</table>\n</div>"
     },
     "execution_count": 29,
     "metadata": {},
     "output_type": "execute_result"
    }
   ],
   "source": [
    "report.sort_values('f1', ascending=False)"
   ]
  },
  {
   "cell_type": "markdown",
   "metadata": {
    "pycharm": {
     "name": "#%% md\n"
    }
   },
   "source": [
    "Без настройки гиперпараметров с задачей лучше всего справился `ExtraTreesClassifier`.\n",
    "\n",
    "Посмотрим на результат на тестовой выборке:"
   ]
  },
  {
   "cell_type": "code",
   "execution_count": 30,
   "metadata": {
    "pycharm": {
     "name": "#%%\n"
    }
   },
   "outputs": [],
   "source": [
    "# @formatter:off"
   ]
  },
  {
   "cell_type": "code",
   "execution_count": 31,
   "metadata": {
    "pycharm": {
     "name": "#%%\n"
    }
   },
   "outputs": [
    {
     "name": "stdout",
     "output_type": "stream",
     "text": [
      "CPU times: total: 78.1 ms\n",
      "Wall time: 73.6 ms\n"
     ]
    }
   ],
   "source": [
    "%%time\n",
    "\n",
    "clf = ExtraTreesClassifier(random_state=0)\n",
    "_ = clf.fit(X_train, y_train)"
   ]
  },
  {
   "cell_type": "code",
   "execution_count": 32,
   "metadata": {
    "pycharm": {
     "name": "#%%\n"
    }
   },
   "outputs": [
    {
     "name": "stdout",
     "output_type": "stream",
     "text": [
      "CPU times: total: 15.6 ms\n",
      "Wall time: 9.78 ms\n"
     ]
    }
   ],
   "source": [
    "%%time\n",
    "\n",
    "y_pred = clf.predict(X_test)\n",
    "# @formatter:on"
   ]
  },
  {
   "cell_type": "code",
   "execution_count": 33,
   "metadata": {
    "pycharm": {
     "name": "#%%\n"
    }
   },
   "outputs": [
    {
     "name": "stdout",
     "output_type": "stream",
     "text": [
      "              precision    recall  f1-score   support\n",
      "\n",
      "         0.0       1.00      1.00      1.00        31\n",
      "         1.0       1.00      1.00      1.00        29\n",
      "\n",
      "    accuracy                           1.00        60\n",
      "   macro avg       1.00      1.00      1.00        60\n",
      "weighted avg       1.00      1.00      1.00        60\n",
      "\n"
     ]
    }
   ],
   "source": [
    "print(metrics.classification_report(y_test, y_pred))"
   ]
  },
  {
   "cell_type": "code",
   "execution_count": 34,
   "metadata": {
    "pycharm": {
     "name": "#%%\n"
    }
   },
   "outputs": [
    {
     "data": {
      "text/plain": "<Figure size 432x432 with 1 Axes>",
      "image/png": "[encoded data removed]"
     },
     "metadata": {},
     "output_type": "display_data"
    }
   ],
   "source": [
    "cm_display = metrics.ConfusionMatrixDisplay.from_predictions(\n",
    "    y_test,\n",
    "    y_pred,\n",
    "    display_labels=enc.categories_[-1],\n",
    "    colorbar=False,\n",
    "    cmap=sns.color_palette('light:b', as_cmap=True)\n",
    ")\n",
    "cm_display.ax_.grid(False)\n",
    "cm_display.figure_.set_size_inches(6, 6)"
   ]
  },
  {
   "cell_type": "markdown",
   "metadata": {
    "pycharm": {
     "name": "#%% md\n"
    }
   },
   "source": [
    "**Вывод:** даже с не очень аккуратным избавлением от пропусков получилось выбрать хорошую модель - `ExtraTreesClassifier` - ансамбль 100 чрезвычайно-рандомизированных деревьев."
   ]
  }
 ],
 "metadata": {
  "kernelspec": {
   "display_name": "Python 3 (ipykernel)",
   "language": "python",
   "name": "python3"
  },
  "language_info": {
   "codemirror_mode": {
    "name": "ipython",
    "version": 3
   },
   "file_extension": ".py",
   "mimetype": "text/x-python",
   "name": "python",
   "nbconvert_exporter": "python",
   "pygments_lexer": "ipython3",
   "version": "3.9.13"
  }
 },
 "nbformat": 4,
 "nbformat_minor": 1
}