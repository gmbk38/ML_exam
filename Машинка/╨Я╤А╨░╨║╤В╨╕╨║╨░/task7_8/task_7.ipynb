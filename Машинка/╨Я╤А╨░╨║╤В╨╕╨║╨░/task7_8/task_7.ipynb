{
 "cells": [
  {
   "cell_type": "markdown",
   "id": "1696a95b",
   "metadata": {},
   "source": [
    "### Задание 7. Выбор признаков. \n",
    "Датасет: https://www.kaggle.com/amir75/caesarean-section-classification \n",
    "\n",
    "В папке data: Caesarian Section Classification Dataset.csv"
   ]
  },
  {
   "cell_type": "code",
   "execution_count": 1,
   "id": "1ccbf93a",
   "metadata": {},
   "outputs": [],
   "source": [
    "import pandas as pd\n",
    "import numpy as np\n",
    "import seaborn as sns\n",
    "import matplotlib.pyplot as plt\n",
    "from sklearn.model_selection import train_test_split\n",
    "from sklearn.linear_model import LogisticRegression\n",
    "from sklearn import metrics\n",
    "from sklearn.preprocessing import PolynomialFeatures\n",
    "\n",
    "import warnings\n",
    "warnings.filterwarnings(\"ignore\")"
   ]
  },
  {
   "cell_type": "markdown",
   "id": "65a1cc41",
   "metadata": {},
   "source": [
    "#### 1.\tЗагрузить датасет в Python."
   ]
  },
  {
   "cell_type": "code",
   "execution_count": 2,
   "id": "d76d7aaf",
   "metadata": {},
   "outputs": [
    {
     "data": {
      "text/html": [
       "<div>\n",
       "<style scoped>\n",
       "    .dataframe tbody tr th:only-of-type {\n",
       "        vertical-align: middle;\n",
       "    }\n",
       "\n",
       "    .dataframe tbody tr th {\n",
       "        vertical-align: top;\n",
       "    }\n",
       "\n",
       "    .dataframe thead th {\n",
       "        text-align: right;\n",
       "    }\n",
       "</style>\n",
       "<table border=\"1\" class=\"dataframe\">\n",
       "  <thead>\n",
       "    <tr style=\"text-align: right;\">\n",
       "      <th></th>\n",
       "      <th>Age</th>\n",
       "      <th>Delivey No</th>\n",
       "      <th>Delivery No</th>\n",
       "      <th>Blood of Pressure</th>\n",
       "      <th>Heart Problem</th>\n",
       "      <th>Caesarian</th>\n",
       "    </tr>\n",
       "  </thead>\n",
       "  <tbody>\n",
       "    <tr>\n",
       "      <th>0</th>\n",
       "      <td>22</td>\n",
       "      <td>1</td>\n",
       "      <td>Timely</td>\n",
       "      <td>High</td>\n",
       "      <td>apt</td>\n",
       "      <td>No</td>\n",
       "    </tr>\n",
       "    <tr>\n",
       "      <th>1</th>\n",
       "      <td>26</td>\n",
       "      <td>2</td>\n",
       "      <td>Timely</td>\n",
       "      <td>Normal</td>\n",
       "      <td>apt</td>\n",
       "      <td>Yes</td>\n",
       "    </tr>\n",
       "    <tr>\n",
       "      <th>2</th>\n",
       "      <td>26</td>\n",
       "      <td>2</td>\n",
       "      <td>Premature</td>\n",
       "      <td>Normal</td>\n",
       "      <td>apt</td>\n",
       "      <td>No</td>\n",
       "    </tr>\n",
       "    <tr>\n",
       "      <th>3</th>\n",
       "      <td>28</td>\n",
       "      <td>1</td>\n",
       "      <td>Timely</td>\n",
       "      <td>High</td>\n",
       "      <td>apt</td>\n",
       "      <td>No</td>\n",
       "    </tr>\n",
       "    <tr>\n",
       "      <th>4</th>\n",
       "      <td>22</td>\n",
       "      <td>2</td>\n",
       "      <td>Timely</td>\n",
       "      <td>Normal</td>\n",
       "      <td>apt</td>\n",
       "      <td>Yes</td>\n",
       "    </tr>\n",
       "    <tr>\n",
       "      <th>5</th>\n",
       "      <td>26</td>\n",
       "      <td>1</td>\n",
       "      <td>Premature</td>\n",
       "      <td>Low</td>\n",
       "      <td>apt</td>\n",
       "      <td>No</td>\n",
       "    </tr>\n",
       "    <tr>\n",
       "      <th>6</th>\n",
       "      <td>27</td>\n",
       "      <td>2</td>\n",
       "      <td>Timely</td>\n",
       "      <td>Normal</td>\n",
       "      <td>apt</td>\n",
       "      <td>No</td>\n",
       "    </tr>\n",
       "    <tr>\n",
       "      <th>7</th>\n",
       "      <td>32</td>\n",
       "      <td>3</td>\n",
       "      <td>Timely</td>\n",
       "      <td>Normal</td>\n",
       "      <td>apt</td>\n",
       "      <td>Yes</td>\n",
       "    </tr>\n",
       "    <tr>\n",
       "      <th>8</th>\n",
       "      <td>28</td>\n",
       "      <td>2</td>\n",
       "      <td>Timely</td>\n",
       "      <td>Normal</td>\n",
       "      <td>apt</td>\n",
       "      <td>No</td>\n",
       "    </tr>\n",
       "    <tr>\n",
       "      <th>9</th>\n",
       "      <td>27</td>\n",
       "      <td>1</td>\n",
       "      <td>Premature</td>\n",
       "      <td>Normal</td>\n",
       "      <td>apt</td>\n",
       "      <td>yes</td>\n",
       "    </tr>\n",
       "  </tbody>\n",
       "</table>\n",
       "</div>"
      ],
      "text/plain": [
       "   Age  Delivey No Delivery No Blood of Pressure Heart Problem Caesarian\n",
       "0   22           1      Timely              High           apt        No\n",
       "1   26           2      Timely            Normal           apt       Yes\n",
       "2   26           2   Premature            Normal           apt        No\n",
       "3   28           1      Timely              High           apt        No\n",
       "4   22           2      Timely            Normal           apt       Yes\n",
       "5   26           1   Premature               Low           apt        No\n",
       "6   27           2      Timely            Normal           apt        No\n",
       "7   32           3      Timely            Normal           apt       Yes\n",
       "8   28           2      Timely            Normal           apt        No\n",
       "9   27           1   Premature            Normal           apt       yes"
      ]
     },
     "execution_count": 2,
     "metadata": {},
     "output_type": "execute_result"
    }
   ],
   "source": [
    "df = pd.read_csv('../data/Caesarian Section Classification Dataset.csv')\n",
    "df.head(10)"
   ]
  },
  {
   "cell_type": "markdown",
   "id": "07fe05dc",
   "metadata": {},
   "source": [
    "#### 2.\tОписать набор данных и решаемую задачу.\n",
    "#### 4.\tУдалить ненужные данные, проанализировать отсутствующие значения.\n",
    "#### 5.\tПрокомментировать количественные параметры датасета."
   ]
  },
  {
   "cell_type": "markdown",
   "id": "5d83547c",
   "metadata": {},
   "source": [
    "Этот набор данных содержит информацию о результатах кесарева сечения у 80 беременных женщин с наиболее важными характеристиками проблем с родами в медицинской области.\n",
    "\n",
    "Задача обучения - задача бинарной классификации\n",
    "\n",
    "Целевая переменная ->> Caesarian (делать/не делать кесарево)"
   ]
  },
  {
   "cell_type": "code",
   "execution_count": 3,
   "id": "498a16b4",
   "metadata": {},
   "outputs": [
    {
     "name": "stdout",
     "output_type": "stream",
     "text": [
      "Количество наблюдений ->>  80 \n",
      "Количество признаков ->>  5\n"
     ]
    }
   ],
   "source": [
    "print(\"Количество наблюдений ->> \", df.shape[0], \"\\nКоличество признаков ->> \", df.shape[1]-1)"
   ]
  },
  {
   "cell_type": "code",
   "execution_count": 4,
   "id": "8ae5f9b3",
   "metadata": {},
   "outputs": [
    {
     "name": "stdout",
     "output_type": "stream",
     "text": [
      "<class 'pandas.core.frame.DataFrame'>\n",
      "RangeIndex: 80 entries, 0 to 79\n",
      "Data columns (total 6 columns):\n",
      " #   Column             Non-Null Count  Dtype \n",
      "---  ------             --------------  ----- \n",
      " 0   Age                80 non-null     int64 \n",
      " 1   Delivey No         80 non-null     int64 \n",
      " 2   Delivery No        80 non-null     object\n",
      " 3   Blood of Pressure  80 non-null     object\n",
      " 4   Heart Problem      80 non-null     object\n",
      " 5   Caesarian          80 non-null     object\n",
      "dtypes: int64(2), object(4)\n",
      "memory usage: 3.9+ KB\n"
     ]
    }
   ],
   "source": [
    "# типы переменных и пустые значения\n",
    "df.info()"
   ]
  },
  {
   "cell_type": "raw",
   "id": "e7077610",
   "metadata": {},
   "source": [
    "# типы переменных\n",
    "df.dtypes"
   ]
  },
  {
   "cell_type": "raw",
   "id": "75f8a25a",
   "metadata": {},
   "source": [
    "# пустые значения\n",
    "df.isna().sum()"
   ]
  },
  {
   "cell_type": "code",
   "execution_count": 5,
   "id": "979d8c8f",
   "metadata": {},
   "outputs": [
    {
     "data": {
      "text/html": [
       "<div>\n",
       "<style scoped>\n",
       "    .dataframe tbody tr th:only-of-type {\n",
       "        vertical-align: middle;\n",
       "    }\n",
       "\n",
       "    .dataframe tbody tr th {\n",
       "        vertical-align: top;\n",
       "    }\n",
       "\n",
       "    .dataframe thead th {\n",
       "        text-align: right;\n",
       "    }\n",
       "</style>\n",
       "<table border=\"1\" class=\"dataframe\">\n",
       "  <thead>\n",
       "    <tr style=\"text-align: right;\">\n",
       "      <th></th>\n",
       "      <th>Age</th>\n",
       "      <th>Delivey No</th>\n",
       "    </tr>\n",
       "  </thead>\n",
       "  <tbody>\n",
       "    <tr>\n",
       "      <th>count</th>\n",
       "      <td>80.000000</td>\n",
       "      <td>80.000000</td>\n",
       "    </tr>\n",
       "    <tr>\n",
       "      <th>mean</th>\n",
       "      <td>27.687500</td>\n",
       "      <td>1.662500</td>\n",
       "    </tr>\n",
       "    <tr>\n",
       "      <th>std</th>\n",
       "      <td>5.017927</td>\n",
       "      <td>0.794662</td>\n",
       "    </tr>\n",
       "    <tr>\n",
       "      <th>min</th>\n",
       "      <td>17.000000</td>\n",
       "      <td>1.000000</td>\n",
       "    </tr>\n",
       "    <tr>\n",
       "      <th>25%</th>\n",
       "      <td>25.000000</td>\n",
       "      <td>1.000000</td>\n",
       "    </tr>\n",
       "    <tr>\n",
       "      <th>50%</th>\n",
       "      <td>27.000000</td>\n",
       "      <td>1.000000</td>\n",
       "    </tr>\n",
       "    <tr>\n",
       "      <th>75%</th>\n",
       "      <td>32.000000</td>\n",
       "      <td>2.000000</td>\n",
       "    </tr>\n",
       "    <tr>\n",
       "      <th>max</th>\n",
       "      <td>40.000000</td>\n",
       "      <td>4.000000</td>\n",
       "    </tr>\n",
       "  </tbody>\n",
       "</table>\n",
       "</div>"
      ],
      "text/plain": [
       "             Age  Delivey No\n",
       "count  80.000000   80.000000\n",
       "mean   27.687500    1.662500\n",
       "std     5.017927    0.794662\n",
       "min    17.000000    1.000000\n",
       "25%    25.000000    1.000000\n",
       "50%    27.000000    1.000000\n",
       "75%    32.000000    2.000000\n",
       "max    40.000000    4.000000"
      ]
     },
     "execution_count": 5,
     "metadata": {},
     "output_type": "execute_result"
    }
   ],
   "source": [
    "# описательная статистика для числовых признаков\n",
    "df.describe()"
   ]
  },
  {
   "cell_type": "code",
   "execution_count": 6,
   "id": "2aaddaa0",
   "metadata": {},
   "outputs": [
    {
     "name": "stdout",
     "output_type": "stream",
     "text": [
      "Age  ->  22 [22 26 28 27 32 36 33 23 20 29 25 37 24 18 30 40 31 19 21 35 17 38]\n",
      "Delivey No  ->  4 [1 2 3 4]\n",
      "Delivery No  ->  3 ['Timely' 'Premature' 'Latecomer']\n",
      "Blood of Pressure  ->  4 ['High' 'Normal' 'Low' 'low']\n",
      "Heart Problem  ->  2 ['apt' 'inept']\n",
      "Caesarian  ->  3 ['No' 'Yes' 'yes']\n"
     ]
    }
   ],
   "source": [
    "# уникальные значения (количество и сами значения)\n",
    "for col in df.columns:\n",
    "    print(col, \" -> \", len(df[col].unique()), df[col].unique())"
   ]
  },
  {
   "cell_type": "code",
   "execution_count": 7,
   "id": "bf05d465",
   "metadata": {},
   "outputs": [],
   "source": [
    "# преобразуем аномальные значения\n",
    "df['Blood of Pressure'] = df['Blood of Pressure'].replace('low','Low')\n",
    "df['Caesarian'] = df['Caesarian'].replace('yes','Yes')"
   ]
  },
  {
   "cell_type": "code",
   "execution_count": 8,
   "id": "0a6edff8",
   "metadata": {},
   "outputs": [
    {
     "name": "stdout",
     "output_type": "stream",
     "text": [
      "Age  ->  22 [22 26 28 27 32 36 33 23 20 29 25 37 24 18 30 40 31 19 21 35 17 38]\n",
      "Delivey No  ->  4 [1 2 3 4]\n",
      "Delivery No  ->  3 ['Timely' 'Premature' 'Latecomer']\n",
      "Blood of Pressure  ->  3 ['High' 'Normal' 'Low']\n",
      "Heart Problem  ->  2 ['apt' 'inept']\n",
      "Caesarian  ->  2 ['No' 'Yes']\n"
     ]
    }
   ],
   "source": [
    "for col in df.columns:\n",
    "    print(col, \" -> \", len(df[col].unique()), df[col].unique())"
   ]
  },
  {
   "cell_type": "code",
   "execution_count": 9,
   "id": "3a3c1efe",
   "metadata": {},
   "outputs": [],
   "source": [
    "# пустых значений нет, преобразовывать не нужно"
   ]
  },
  {
   "cell_type": "code",
   "execution_count": 10,
   "id": "d84892ba",
   "metadata": {},
   "outputs": [
    {
     "data": {
      "text/html": [
       "<div>\n",
       "<style scoped>\n",
       "    .dataframe tbody tr th:only-of-type {\n",
       "        vertical-align: middle;\n",
       "    }\n",
       "\n",
       "    .dataframe tbody tr th {\n",
       "        vertical-align: top;\n",
       "    }\n",
       "\n",
       "    .dataframe thead th {\n",
       "        text-align: right;\n",
       "    }\n",
       "</style>\n",
       "<table border=\"1\" class=\"dataframe\">\n",
       "  <thead>\n",
       "    <tr style=\"text-align: right;\">\n",
       "      <th></th>\n",
       "      <th>Age</th>\n",
       "      <th>Delivey No</th>\n",
       "      <th>Delivery No_Premature</th>\n",
       "      <th>Delivery No_Timely</th>\n",
       "      <th>Blood of Pressure_Low</th>\n",
       "      <th>Blood of Pressure_Normal</th>\n",
       "      <th>Heart Problem_inept</th>\n",
       "      <th>Caesarian_Yes</th>\n",
       "    </tr>\n",
       "  </thead>\n",
       "  <tbody>\n",
       "    <tr>\n",
       "      <th>0</th>\n",
       "      <td>22</td>\n",
       "      <td>1</td>\n",
       "      <td>0</td>\n",
       "      <td>1</td>\n",
       "      <td>0</td>\n",
       "      <td>0</td>\n",
       "      <td>0</td>\n",
       "      <td>0</td>\n",
       "    </tr>\n",
       "    <tr>\n",
       "      <th>1</th>\n",
       "      <td>26</td>\n",
       "      <td>2</td>\n",
       "      <td>0</td>\n",
       "      <td>1</td>\n",
       "      <td>0</td>\n",
       "      <td>1</td>\n",
       "      <td>0</td>\n",
       "      <td>1</td>\n",
       "    </tr>\n",
       "    <tr>\n",
       "      <th>2</th>\n",
       "      <td>26</td>\n",
       "      <td>2</td>\n",
       "      <td>1</td>\n",
       "      <td>0</td>\n",
       "      <td>0</td>\n",
       "      <td>1</td>\n",
       "      <td>0</td>\n",
       "      <td>0</td>\n",
       "    </tr>\n",
       "    <tr>\n",
       "      <th>3</th>\n",
       "      <td>28</td>\n",
       "      <td>1</td>\n",
       "      <td>0</td>\n",
       "      <td>1</td>\n",
       "      <td>0</td>\n",
       "      <td>0</td>\n",
       "      <td>0</td>\n",
       "      <td>0</td>\n",
       "    </tr>\n",
       "    <tr>\n",
       "      <th>4</th>\n",
       "      <td>22</td>\n",
       "      <td>2</td>\n",
       "      <td>0</td>\n",
       "      <td>1</td>\n",
       "      <td>0</td>\n",
       "      <td>1</td>\n",
       "      <td>0</td>\n",
       "      <td>1</td>\n",
       "    </tr>\n",
       "  </tbody>\n",
       "</table>\n",
       "</div>"
      ],
      "text/plain": [
       "   Age  Delivey No  Delivery No_Premature  Delivery No_Timely  \\\n",
       "0   22           1                      0                   1   \n",
       "1   26           2                      0                   1   \n",
       "2   26           2                      1                   0   \n",
       "3   28           1                      0                   1   \n",
       "4   22           2                      0                   1   \n",
       "\n",
       "   Blood of Pressure_Low  Blood of Pressure_Normal  Heart Problem_inept  \\\n",
       "0                      0                         0                    0   \n",
       "1                      0                         1                    0   \n",
       "2                      0                         1                    0   \n",
       "3                      0                         0                    0   \n",
       "4                      0                         1                    0   \n",
       "\n",
       "   Caesarian_Yes  \n",
       "0              0  \n",
       "1              1  \n",
       "2              0  \n",
       "3              0  \n",
       "4              1  "
      ]
     },
     "execution_count": 10,
     "metadata": {},
     "output_type": "execute_result"
    }
   ],
   "source": [
    "# преобразуем все характеристики в числовые\n",
    "df = pd.get_dummies(df,drop_first=True)\n",
    "df.head()"
   ]
  },
  {
   "cell_type": "markdown",
   "id": "377ad2d2",
   "metadata": {},
   "source": [
    "#### 3.\tВыделить целевую переменную и факторные переменные.\n",
    "#### 6.\tРазбить выборку на обучающую и тестовую."
   ]
  },
  {
   "cell_type": "code",
   "execution_count": 11,
   "id": "6f45d287",
   "metadata": {},
   "outputs": [],
   "source": [
    "# целевая переменная и факторы\n",
    "Y = df['Caesarian_Yes']\n",
    "X = df.drop(['Caesarian_Yes'], axis=1)\n",
    "\n",
    "# обучающая и тестовая выборки\n",
    "X_train, X_test, y_train, y_test = train_test_split(X, Y, \n",
    "                                                    test_size=0.25,\n",
    "                                                    random_state=True)"
   ]
  },
  {
   "cell_type": "markdown",
   "id": "ee398b21",
   "metadata": {},
   "source": [
    "#### 7.\tРабота по вариантам.\n",
    "\n",
    "Вариант 4. Выбор признаков.\n",
    "Данный вариант предполагает фокусировку на улучшении модели путем ввода новых признаков в модель. Следует подготовить модель к обучению, обучить модель и зафиксировать начальный уровень эффективности. Затем следует исследовать влияние исключения существующих и введения новых признаков в модель на эффективность. Как вариант можно рассматривать введение полиномиальных признаков. Следует стремиться к максимальному увеличению эффективности модели."
   ]
  },
  {
   "cell_type": "markdown",
   "id": "7d319732",
   "metadata": {},
   "source": [
    "##### Построение модели и оценка качества до добавления и исключения признаков"
   ]
  },
  {
   "cell_type": "code",
   "execution_count": 12,
   "id": "9994ae2b",
   "metadata": {},
   "outputs": [],
   "source": [
    "cls = LogisticRegression()\n",
    "cls.fit(X_train, y_train)\n",
    "y_pred = cls.predict(X_test)"
   ]
  },
  {
   "cell_type": "code",
   "execution_count": 13,
   "id": "40850a66",
   "metadata": {},
   "outputs": [
    {
     "data": {
      "image/png": "[encoded data removed]",
      "text/plain": [
       "<Figure size 432x288 with 2 Axes>"
      ]
     },
     "metadata": {
      "needs_background": "light"
     },
     "output_type": "display_data"
    },
    {
     "name": "stdout",
     "output_type": "stream",
     "text": [
      "Метрика достоверности предсказания ->>  0.8\n",
      "Метрика точности ->>  0.7692307692307693\n",
      "Метрика полноты ->>  0.9090909090909091\n",
      "              precision    recall  f1-score   support\n",
      "\n",
      "           0       0.86      0.67      0.75         9\n",
      "           1       0.77      0.91      0.83        11\n",
      "\n",
      "    accuracy                           0.80        20\n",
      "   macro avg       0.81      0.79      0.79        20\n",
      "weighted avg       0.81      0.80      0.80        20\n",
      "\n"
     ]
    }
   ],
   "source": [
    "sns.heatmap(pd.DataFrame(\n",
    "            metrics.confusion_matrix(y_test, y_pred)),\n",
    "            annot=True)\n",
    "plt.ylabel('Действительные значения')\n",
    "plt.xlabel('Предсказанные значения')\n",
    "plt.show()\n",
    "\n",
    "print('Метрика достоверности предсказания ->> ', metrics.accuracy_score(y_test, y_pred))\n",
    "print('Метрика точности ->> ', metrics.precision_score(y_test, y_pred))\n",
    "print('Метрика полноты ->> ', metrics.recall_score(y_test, y_pred))\n",
    "\n",
    "print(metrics.classification_report(y_test, y_pred))"
   ]
  },
  {
   "cell_type": "markdown",
   "id": "f95d328a",
   "metadata": {},
   "source": [
    "##### Работа с признаками"
   ]
  },
  {
   "cell_type": "code",
   "execution_count": 14,
   "id": "ab90a828",
   "metadata": {},
   "outputs": [
    {
     "data": {
      "text/plain": [
       "<AxesSubplot:>"
      ]
     },
     "execution_count": 14,
     "metadata": {},
     "output_type": "execute_result"
    },
    {
     "data": {
      "image/png": "[encoded data removed]",
      "text/plain": [
       "<Figure size 432x288 with 2 Axes>"
      ]
     },
     "metadata": {
      "needs_background": "light"
     },
     "output_type": "display_data"
    }
   ],
   "source": [
    "hm = sns.heatmap(df.corr(),\n",
    "                 #cbar=True,\n",
    "                 #annot=True\n",
    "                )\n",
    "hm"
   ]
  },
  {
   "cell_type": "markdown",
   "id": "83dfe802",
   "metadata": {},
   "source": [
    "При преобразовании в числовые признаки создались дополнительные столбцы, объеденим их обратно в один"
   ]
  },
  {
   "cell_type": "code",
   "execution_count": 15,
   "id": "2c04a556",
   "metadata": {},
   "outputs": [],
   "source": [
    "# Delivery No: 0 - Latecomer; 1 - Premature; 2 - Timely\n",
    "X_train['Delivery No'] = X_train['Delivery No_Premature'] + X_train['Delivery No_Timely']*2\n",
    "X_train = X_train.drop(['Delivery No_Premature','Delivery No_Timely'], axis=1)\n",
    "\n",
    "X_test['Delivery No'] = X_test['Delivery No_Premature'] + X_test['Delivery No_Timely']*2\n",
    "X_test = X_test.drop(['Delivery No_Premature','Delivery No_Timely'], axis=1)"
   ]
  },
  {
   "cell_type": "code",
   "execution_count": 16,
   "id": "3e96e23c",
   "metadata": {},
   "outputs": [],
   "source": [
    "# Blood of Pressure: 0 - High; 1 - Low; 2 - Normal\n",
    "X_train['Blood of Pressure'] = X_train['Blood of Pressure_Low'] + X_train['Blood of Pressure_Normal']*2\n",
    "X_train = X_train.drop(['Blood of Pressure_Low','Blood of Pressure_Normal'], axis=1)\n",
    "\n",
    "X_test['Blood of Pressure'] = X_test['Blood of Pressure_Low'] + X_test['Blood of Pressure_Normal']*2\n",
    "X_test = X_test.drop(['Blood of Pressure_Low','Blood of Pressure_Normal'], axis=1)"
   ]
  },
  {
   "cell_type": "markdown",
   "id": "181d5789",
   "metadata": {},
   "source": [
    "Введем полиномиальные признаки"
   ]
  },
  {
   "cell_type": "code",
   "execution_count": 17,
   "id": "5967744b",
   "metadata": {},
   "outputs": [],
   "source": [
    "poly_transformer = PolynomialFeatures(degree = 2, \n",
    "                                      interaction_only=True,\n",
    "                                      include_bias=False)\n",
    "\n",
    "poly_transformer.fit(X_train)\n",
    "X_train_poly = poly_transformer.transform(X_train)\n",
    "X_test_poly = poly_transformer.transform(X_test)"
   ]
  },
  {
   "cell_type": "code",
   "execution_count": 18,
   "id": "9f0a0f65",
   "metadata": {},
   "outputs": [
    {
     "data": {
      "text/plain": [
       "['Age',\n",
       " 'Delivey No',\n",
       " 'Heart Problem_inept',\n",
       " 'Delivery No',\n",
       " 'Blood of Pressure',\n",
       " 'Age Delivey No',\n",
       " 'Age Heart Problem_inept',\n",
       " 'Age Delivery No',\n",
       " 'Age Blood of Pressure',\n",
       " 'Delivey No Heart Problem_inept',\n",
       " 'Delivey No Delivery No',\n",
       " 'Delivey No Blood of Pressure',\n",
       " 'Heart Problem_inept Delivery No',\n",
       " 'Heart Problem_inept Blood of Pressure',\n",
       " 'Delivery No Blood of Pressure']"
      ]
     },
     "execution_count": 18,
     "metadata": {},
     "output_type": "execute_result"
    }
   ],
   "source": [
    "poly_transformer.get_feature_names(input_features = X_train.columns)"
   ]
  },
  {
   "cell_type": "markdown",
   "id": "5f7f7e98",
   "metadata": {},
   "source": [
    "##### Построение модели и оценка качества после добавления и исключения признаков"
   ]
  },
  {
   "cell_type": "code",
   "execution_count": 19,
   "id": "84c652cc",
   "metadata": {},
   "outputs": [
    {
     "data": {
      "image/png": "[encoded data removed]",
      "text/plain": [
       "<Figure size 432x288 with 2 Axes>"
      ]
     },
     "metadata": {
      "needs_background": "light"
     },
     "output_type": "display_data"
    },
    {
     "name": "stdout",
     "output_type": "stream",
     "text": [
      "Метрика достоверности предсказания ->>  0.9\n",
      "Метрика точности ->>  0.9090909090909091\n",
      "Метрика полноты ->>  0.9090909090909091\n",
      "              precision    recall  f1-score   support\n",
      "\n",
      "           0       0.89      0.89      0.89         9\n",
      "           1       0.91      0.91      0.91        11\n",
      "\n",
      "    accuracy                           0.90        20\n",
      "   macro avg       0.90      0.90      0.90        20\n",
      "weighted avg       0.90      0.90      0.90        20\n",
      "\n"
     ]
    }
   ],
   "source": [
    "cls_ = LogisticRegression()\n",
    "cls_.fit(X_train_poly, y_train)\n",
    "y_pred_ = cls_.predict(X_test_poly)\n",
    "\n",
    "sns.heatmap(pd.DataFrame(\n",
    "            metrics.confusion_matrix(y_test, y_pred_)),\n",
    "            annot=True)\n",
    "plt.ylabel('Действительные значения')\n",
    "plt.xlabel('Предсказанные значения')\n",
    "plt.show()\n",
    "\n",
    "print('Метрика достоверности предсказания ->> ', metrics.accuracy_score(y_test, y_pred_))\n",
    "print('Метрика точности ->> ', metrics.precision_score(y_test, y_pred_))\n",
    "print('Метрика полноты ->> ', metrics.recall_score(y_test, y_pred_))\n",
    "\n",
    "print(metrics.classification_report(y_test, y_pred_))"
   ]
  },
  {
   "cell_type": "markdown",
   "id": "c20b164f",
   "metadata": {},
   "source": [
    "Максимальные значения метрик достигаются при следующих значениях:\n",
    "- degree = 2\n",
    "- interaction_only=True"
   ]
  },
  {
   "cell_type": "code",
   "execution_count": null,
   "id": "f80b6ba5",
   "metadata": {},
   "outputs": [],
   "source": []
  }
 ],
 "metadata": {
  "kernelspec": {
   "display_name": "Python 3 (ipykernel)",
   "language": "python",
   "name": "python3"
  },
  "language_info": {
   "codemirror_mode": {
    "name": "ipython",
    "version": 3
   },
   "file_extension": ".py",
   "mimetype": "text/x-python",
   "name": "python",
   "nbconvert_exporter": "python",
   "pygments_lexer": "ipython3",
   "version": "3.9.13"
  }
 },
 "nbformat": 4,
 "nbformat_minor": 5
}
