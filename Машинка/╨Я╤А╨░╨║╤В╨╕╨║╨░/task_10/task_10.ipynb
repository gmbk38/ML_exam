{
 "cells": [
  {
   "cell_type": "markdown",
   "metadata": {
    "id": "3arGxhCUmQeQ"
   },
   "source": [
    "10. Исследование влияния обучения без учителя на эффективность обучения. Датасет: https://www.kaggle.com/sachinsharma1123/performance-prediction"
   ]
  },
  {
   "cell_type": "code",
   "execution_count": 1,
   "metadata": {
    "id": "HuNLddHMlXI8"
   },
   "outputs": [],
   "source": [
    "import numpy as np \n",
    "import pandas as pd \n",
    "from sklearn import linear_model \n",
    "import io\n",
    "import matplotlib.pyplot as plt\n",
    "from sklearn.preprocessing import MinMaxScaler\n",
    "from sklearn.metrics import accuracy_score\n",
    "from sklearn.model_selection import train_test_split\n",
    "from sklearn.model_selection import cross_val_score\n",
    "from sklearn.decomposition import PCA\n",
    "from sklearn.pipeline import Pipeline\n",
    "from sklearn.metrics import r2_score\n",
    "from sklearn.feature_selection import SelectKBest\n",
    "from sklearn.feature_selection import f_classif\n",
    "from sklearn import svm\n",
    "from sklearn.linear_model import LogisticRegression\n",
    "from sklearn.neighbors import KNeighborsClassifier\n",
    "from sklearn.naive_bayes import GaussianNB"
   ]
  },
  {
   "cell_type": "code",
   "execution_count": 2,
   "metadata": {
    "id": "w8aGKSeZnJwi"
   },
   "outputs": [],
   "source": [
    "data_set = pd.read_csv('../data/summary.csv')"
   ]
  },
  {
   "cell_type": "code",
   "execution_count": 3,
   "metadata": {
    "colab": {
     "base_uri": "https://localhost:8080/",
     "height": 386
    },
    "id": "pFqhI9oEnPDn",
    "outputId": "e592865c-bcca-48e2-f934-12d82429a390"
   },
   "outputs": [
    {
     "data": {
      "text/html": [
       "<div>\n",
       "<style scoped>\n",
       "    .dataframe tbody tr th:only-of-type {\n",
       "        vertical-align: middle;\n",
       "    }\n",
       "\n",
       "    .dataframe tbody tr th {\n",
       "        vertical-align: top;\n",
       "    }\n",
       "\n",
       "    .dataframe thead th {\n",
       "        text-align: right;\n",
       "    }\n",
       "</style>\n",
       "<table border=\"1\" class=\"dataframe\">\n",
       "  <thead>\n",
       "    <tr style=\"text-align: right;\">\n",
       "      <th></th>\n",
       "      <th>Name</th>\n",
       "      <th>GamesPlayed</th>\n",
       "      <th>MinutesPlayed</th>\n",
       "      <th>PointsPerGame</th>\n",
       "      <th>FieldGoalsMade</th>\n",
       "      <th>FieldGoalsAttempt</th>\n",
       "      <th>FieldGoalPercent</th>\n",
       "      <th>3PointMade</th>\n",
       "      <th>3PointAttempt</th>\n",
       "      <th>3PointPercent</th>\n",
       "      <th>...</th>\n",
       "      <th>FreeThrowAttempt</th>\n",
       "      <th>FreeThrowPercent</th>\n",
       "      <th>OffensiveRebounds</th>\n",
       "      <th>DefensiveRebounds</th>\n",
       "      <th>Rebounds</th>\n",
       "      <th>Assists</th>\n",
       "      <th>Steals</th>\n",
       "      <th>Blocks</th>\n",
       "      <th>Turnovers</th>\n",
       "      <th>Target</th>\n",
       "    </tr>\n",
       "  </thead>\n",
       "  <tbody>\n",
       "    <tr>\n",
       "      <th>0</th>\n",
       "      <td>Brandon Ingram</td>\n",
       "      <td>36</td>\n",
       "      <td>27.4</td>\n",
       "      <td>7.4</td>\n",
       "      <td>2.6</td>\n",
       "      <td>7.6</td>\n",
       "      <td>34.7</td>\n",
       "      <td>0.5</td>\n",
       "      <td>2.1</td>\n",
       "      <td>25.0</td>\n",
       "      <td>...</td>\n",
       "      <td>2.3</td>\n",
       "      <td>69.9</td>\n",
       "      <td>0.7</td>\n",
       "      <td>3.4</td>\n",
       "      <td>4.1</td>\n",
       "      <td>1.9</td>\n",
       "      <td>0.4</td>\n",
       "      <td>0.4</td>\n",
       "      <td>1.3</td>\n",
       "      <td>0</td>\n",
       "    </tr>\n",
       "    <tr>\n",
       "      <th>1</th>\n",
       "      <td>Andrew Harrison</td>\n",
       "      <td>35</td>\n",
       "      <td>26.9</td>\n",
       "      <td>7.2</td>\n",
       "      <td>2.0</td>\n",
       "      <td>6.7</td>\n",
       "      <td>29.6</td>\n",
       "      <td>0.7</td>\n",
       "      <td>2.8</td>\n",
       "      <td>23.5</td>\n",
       "      <td>...</td>\n",
       "      <td>3.4</td>\n",
       "      <td>76.5</td>\n",
       "      <td>0.5</td>\n",
       "      <td>2.0</td>\n",
       "      <td>2.4</td>\n",
       "      <td>3.7</td>\n",
       "      <td>1.1</td>\n",
       "      <td>0.5</td>\n",
       "      <td>1.6</td>\n",
       "      <td>0</td>\n",
       "    </tr>\n",
       "    <tr>\n",
       "      <th>2</th>\n",
       "      <td>JaKarr Sampson</td>\n",
       "      <td>74</td>\n",
       "      <td>15.3</td>\n",
       "      <td>5.2</td>\n",
       "      <td>2.0</td>\n",
       "      <td>4.7</td>\n",
       "      <td>42.2</td>\n",
       "      <td>0.4</td>\n",
       "      <td>1.7</td>\n",
       "      <td>24.4</td>\n",
       "      <td>...</td>\n",
       "      <td>1.3</td>\n",
       "      <td>67.0</td>\n",
       "      <td>0.5</td>\n",
       "      <td>1.7</td>\n",
       "      <td>2.2</td>\n",
       "      <td>1.0</td>\n",
       "      <td>0.5</td>\n",
       "      <td>0.3</td>\n",
       "      <td>1.0</td>\n",
       "      <td>0</td>\n",
       "    </tr>\n",
       "    <tr>\n",
       "      <th>3</th>\n",
       "      <td>Malik Sealy</td>\n",
       "      <td>58</td>\n",
       "      <td>11.6</td>\n",
       "      <td>5.7</td>\n",
       "      <td>2.3</td>\n",
       "      <td>5.5</td>\n",
       "      <td>42.6</td>\n",
       "      <td>0.1</td>\n",
       "      <td>0.5</td>\n",
       "      <td>22.6</td>\n",
       "      <td>...</td>\n",
       "      <td>1.3</td>\n",
       "      <td>68.9</td>\n",
       "      <td>1.0</td>\n",
       "      <td>0.9</td>\n",
       "      <td>1.9</td>\n",
       "      <td>0.8</td>\n",
       "      <td>0.6</td>\n",
       "      <td>0.1</td>\n",
       "      <td>1.0</td>\n",
       "      <td>1</td>\n",
       "    </tr>\n",
       "    <tr>\n",
       "      <th>4</th>\n",
       "      <td>Matt Geiger</td>\n",
       "      <td>48</td>\n",
       "      <td>11.5</td>\n",
       "      <td>4.5</td>\n",
       "      <td>1.6</td>\n",
       "      <td>3.0</td>\n",
       "      <td>52.4</td>\n",
       "      <td>0.0</td>\n",
       "      <td>0.1</td>\n",
       "      <td>0.0</td>\n",
       "      <td>...</td>\n",
       "      <td>1.9</td>\n",
       "      <td>67.4</td>\n",
       "      <td>1.0</td>\n",
       "      <td>1.5</td>\n",
       "      <td>2.5</td>\n",
       "      <td>0.3</td>\n",
       "      <td>0.3</td>\n",
       "      <td>0.4</td>\n",
       "      <td>0.8</td>\n",
       "      <td>1</td>\n",
       "    </tr>\n",
       "  </tbody>\n",
       "</table>\n",
       "<p>5 rows × 21 columns</p>\n",
       "</div>"
      ],
      "text/plain": [
       "              Name  GamesPlayed  MinutesPlayed  PointsPerGame  FieldGoalsMade  \\\n",
       "0   Brandon Ingram           36           27.4            7.4             2.6   \n",
       "1  Andrew Harrison           35           26.9            7.2             2.0   \n",
       "2   JaKarr Sampson           74           15.3            5.2             2.0   \n",
       "3      Malik Sealy           58           11.6            5.7             2.3   \n",
       "4      Matt Geiger           48           11.5            4.5             1.6   \n",
       "\n",
       "   FieldGoalsAttempt  FieldGoalPercent  3PointMade  3PointAttempt  \\\n",
       "0                7.6              34.7         0.5            2.1   \n",
       "1                6.7              29.6         0.7            2.8   \n",
       "2                4.7              42.2         0.4            1.7   \n",
       "3                5.5              42.6         0.1            0.5   \n",
       "4                3.0              52.4         0.0            0.1   \n",
       "\n",
       "   3PointPercent  ...  FreeThrowAttempt  FreeThrowPercent  OffensiveRebounds  \\\n",
       "0           25.0  ...               2.3              69.9                0.7   \n",
       "1           23.5  ...               3.4              76.5                0.5   \n",
       "2           24.4  ...               1.3              67.0                0.5   \n",
       "3           22.6  ...               1.3              68.9                1.0   \n",
       "4            0.0  ...               1.9              67.4                1.0   \n",
       "\n",
       "   DefensiveRebounds  Rebounds  Assists  Steals  Blocks  Turnovers  Target  \n",
       "0                3.4       4.1      1.9     0.4     0.4        1.3       0  \n",
       "1                2.0       2.4      3.7     1.1     0.5        1.6       0  \n",
       "2                1.7       2.2      1.0     0.5     0.3        1.0       0  \n",
       "3                0.9       1.9      0.8     0.6     0.1        1.0       1  \n",
       "4                1.5       2.5      0.3     0.3     0.4        0.8       1  \n",
       "\n",
       "[5 rows x 21 columns]"
      ]
     },
     "execution_count": 3,
     "metadata": {},
     "output_type": "execute_result"
    }
   ],
   "source": [
    "data_set.head()"
   ]
  },
  {
   "cell_type": "markdown",
   "metadata": {
    "id": "QWmLizFlSt83"
   },
   "source": [
    "#Linear Regression\n",
    "обучения c учители "
   ]
  },
  {
   "cell_type": "code",
   "execution_count": 4,
   "metadata": {
    "colab": {
     "base_uri": "https://localhost:8080/",
     "height": 279
    },
    "id": "qht4uU0yNIEx",
    "outputId": "9dabb765-2c22-4022-8ae3-b696a1da3062"
   },
   "outputs": [
    {
     "data": {
      "image/png": "[encoded data removed]",
      "text/plain": [
       "<Figure size 432x288 with 1 Axes>"
      ]
     },
     "metadata": {
      "needs_background": "light"
     },
     "output_type": "display_data"
    }
   ],
   "source": [
    "# Let's select some features to explore more :\n",
    "data_set = data_set[[\"GamesPlayed\",\"PointsPerGame\"]]\n",
    "# ENGINESIZE vs CO2EMISSIONS:\n",
    "plt.scatter(data_set[\"GamesPlayed\"] , data_set[\"PointsPerGame\"] , color=\"blue\")\n",
    "plt.xlabel(\"GamesPlayed\")\n",
    "plt.ylabel(\"PointsPerGame\")\n",
    "plt.show()"
   ]
  },
  {
   "cell_type": "code",
   "execution_count": 5,
   "metadata": {
    "id": "TdmUhjkjoFPY"
   },
   "outputs": [],
   "source": [
    "# Generating training and testing data from our data:\n",
    "# We are using 80% data for training.\n",
    "train = data_set[:(int((len(data_set)*0.8)))]\n",
    "test = data_set[(int((len(data_set)*0.8))):]"
   ]
  },
  {
   "cell_type": "code",
   "execution_count": 6,
   "metadata": {
    "colab": {
     "base_uri": "https://localhost:8080/"
    },
    "id": "uHAcwy2wM9CX",
    "outputId": "0d3b4573-3021-48a3-f83e-17990d5b8769"
   },
   "outputs": [
    {
     "data": {
      "text/plain": [
       "LinearRegression()"
      ]
     },
     "execution_count": 6,
     "metadata": {},
     "output_type": "execute_result"
    }
   ],
   "source": [
    "# Modeling:\n",
    "# Using sklearn package to model data :\n",
    "regr = linear_model.LinearRegression()\n",
    "train_x = np.array(train[[\"GamesPlayed\"]])\n",
    "train_y = np.array(train[[\"PointsPerGame\"]])\n",
    "regr.fit(train_x,train_y)"
   ]
  },
  {
   "cell_type": "code",
   "execution_count": 7,
   "metadata": {
    "colab": {
     "base_uri": "https://localhost:8080/",
     "height": 331
    },
    "id": "CA6mBiG2Rhul",
    "outputId": "eaf74103-a9a6-45ac-c97d-d6483d4d6904"
   },
   "outputs": [
    {
     "name": "stdout",
     "output_type": "stream",
     "text": [
      "coefficients :  [[0.13204386]]\n",
      "Intercept :  [-1.38285315]\n"
     ]
    },
    {
     "data": {
      "text/plain": [
       "Text(0, 0.5, 'PointsPerGame')"
      ]
     },
     "execution_count": 7,
     "metadata": {},
     "output_type": "execute_result"
    },
    {
     "data": {
      "image/png": "[encoded data removed]",
      "text/plain": [
       "<Figure size 432x288 with 1 Axes>"
      ]
     },
     "metadata": {
      "needs_background": "light"
     },
     "output_type": "display_data"
    }
   ],
   "source": [
    "# The coefficients:\n",
    "print (\"coefficients : \",regr.coef_) #Slope\n",
    "print (\"Intercept : \",regr.intercept_) #Intercept\n",
    "# Plotting the regression line:\n",
    "plt.scatter(train[\"GamesPlayed\"], train[\"PointsPerGame\"], color='blue')\n",
    "plt.plot(train_x, regr.coef_*train_x + regr.intercept_, '-r')\n",
    "plt.xlabel(\"GamesPlayed\")\n",
    "plt.ylabel(\"PointsPerGame\")"
   ]
  },
  {
   "cell_type": "code",
   "execution_count": 8,
   "metadata": {
    "id": "bp6JggFFRu2B"
   },
   "outputs": [],
   "source": [
    "# Predicting values:\n",
    "# Function for predicting future values :\n",
    "def get_regression_predictions(input_features,intercept,slope):\n",
    " predicted_values = input_features*slope + intercept\n",
    " return predicted_values"
   ]
  },
  {
   "cell_type": "code",
   "execution_count": 9,
   "metadata": {
    "colab": {
     "base_uri": "https://localhost:8080/"
    },
    "id": "mj_CcZjNR48N",
    "outputId": "9ac3849c-4c75-409b-9196-6f15e4088c09"
   },
   "outputs": [
    {
     "name": "stdout",
     "output_type": "stream",
     "text": [
      "Estimated score : 10.501094662061819\n"
     ]
    }
   ],
   "source": [
    "# Predicting score for future game:\n",
    "my_game_played = 90\n",
    "estimatd_score = get_regression_predictions(my_game_played,regr.intercept_[0],regr.coef_[0][0])\n",
    "print (\"Estimated score :\",estimatd_score)"
   ]
  },
  {
   "cell_type": "code",
   "execution_count": 10,
   "metadata": {
    "colab": {
     "base_uri": "https://localhost:8080/"
    },
    "id": "fmGRovCBSN1Y",
    "outputId": "704233f9-4a79-48f5-99f7-cd0cb1f54ef5"
   },
   "outputs": [
    {
     "name": "stdout",
     "output_type": "stream",
     "text": [
      "Mean absolute error: 3.09\n",
      "Mean sum of squares (MSE): 18.49\n",
      "R2-score: -2.60\n"
     ]
    }
   ],
   "source": [
    "# Checking various accuracy:\n",
    "from sklearn.metrics import r2_score\n",
    "test_x = np.array(test[['GamesPlayed']])\n",
    "test_y = np.array(test[['PointsPerGame']])\n",
    "test_y_ = regr.predict(test_x)\n",
    "print(\"Mean absolute error: %.2f\" % np.mean(np.absolute(test_y_ - test_y)))\n",
    "print(\"Mean sum of squares (MSE): %.2f\" % np.mean((test_y_ - test_y) ** 2))\n",
    "print(\"R2-score: %.2f\" % r2_score(test_y_ , test_y) )"
   ]
  },
  {
   "cell_type": "markdown",
   "metadata": {
    "id": "0kyuR0PRgWO5"
   },
   "source": [
    "#обучения без учителя (Classification) \n",
    "Классификация игрового времени баскетболиста"
   ]
  },
  {
   "cell_type": "code",
   "execution_count": 11,
   "metadata": {
    "id": "0QVGIvdrcTdV"
   },
   "outputs": [],
   "source": [
    "data_set = pd.read_csv('../data/summary.csv')"
   ]
  },
  {
   "cell_type": "code",
   "execution_count": 12,
   "metadata": {
    "colab": {
     "base_uri": "https://localhost:8080/",
     "height": 364
    },
    "id": "U59l5Nrcg6q6",
    "outputId": "f29d2654-56d9-4cd2-8d60-50efeb598c46"
   },
   "outputs": [
    {
     "data": {
      "text/html": [
       "<div>\n",
       "<style scoped>\n",
       "    .dataframe tbody tr th:only-of-type {\n",
       "        vertical-align: middle;\n",
       "    }\n",
       "\n",
       "    .dataframe tbody tr th {\n",
       "        vertical-align: top;\n",
       "    }\n",
       "\n",
       "    .dataframe thead th {\n",
       "        text-align: right;\n",
       "    }\n",
       "</style>\n",
       "<table border=\"1\" class=\"dataframe\">\n",
       "  <thead>\n",
       "    <tr style=\"text-align: right;\">\n",
       "      <th></th>\n",
       "      <th>GamesPlayed</th>\n",
       "      <th>MinutesPlayed</th>\n",
       "      <th>PointsPerGame</th>\n",
       "      <th>FieldGoalsMade</th>\n",
       "      <th>FieldGoalsAttempt</th>\n",
       "      <th>FieldGoalPercent</th>\n",
       "      <th>3PointMade</th>\n",
       "      <th>3PointAttempt</th>\n",
       "      <th>3PointPercent</th>\n",
       "      <th>FreeThrowMade</th>\n",
       "      <th>FreeThrowAttempt</th>\n",
       "      <th>FreeThrowPercent</th>\n",
       "      <th>OffensiveRebounds</th>\n",
       "      <th>DefensiveRebounds</th>\n",
       "      <th>Rebounds</th>\n",
       "      <th>Assists</th>\n",
       "      <th>Steals</th>\n",
       "      <th>Blocks</th>\n",
       "      <th>Turnovers</th>\n",
       "      <th>Target</th>\n",
       "    </tr>\n",
       "  </thead>\n",
       "  <tbody>\n",
       "    <tr>\n",
       "      <th>count</th>\n",
       "      <td>1340.000000</td>\n",
       "      <td>1340.000000</td>\n",
       "      <td>1340.000000</td>\n",
       "      <td>1340.000000</td>\n",
       "      <td>1340.000000</td>\n",
       "      <td>1340.000000</td>\n",
       "      <td>1340.000000</td>\n",
       "      <td>1340.000000</td>\n",
       "      <td>1329.000000</td>\n",
       "      <td>1340.000000</td>\n",
       "      <td>1340.000000</td>\n",
       "      <td>1340.000000</td>\n",
       "      <td>1340.000000</td>\n",
       "      <td>1340.000000</td>\n",
       "      <td>1340.000000</td>\n",
       "      <td>1340.000000</td>\n",
       "      <td>1340.000000</td>\n",
       "      <td>1340.000000</td>\n",
       "      <td>1340.000000</td>\n",
       "      <td>1340.000000</td>\n",
       "    </tr>\n",
       "    <tr>\n",
       "      <th>mean</th>\n",
       "      <td>60.414179</td>\n",
       "      <td>17.624627</td>\n",
       "      <td>6.801493</td>\n",
       "      <td>2.629104</td>\n",
       "      <td>5.885299</td>\n",
       "      <td>44.169403</td>\n",
       "      <td>0.247612</td>\n",
       "      <td>0.779179</td>\n",
       "      <td>19.308126</td>\n",
       "      <td>1.297687</td>\n",
       "      <td>1.821940</td>\n",
       "      <td>70.300299</td>\n",
       "      <td>1.009403</td>\n",
       "      <td>2.025746</td>\n",
       "      <td>3.034478</td>\n",
       "      <td>1.550522</td>\n",
       "      <td>0.618507</td>\n",
       "      <td>0.368582</td>\n",
       "      <td>1.193582</td>\n",
       "      <td>0.620149</td>\n",
       "    </tr>\n",
       "    <tr>\n",
       "      <th>std</th>\n",
       "      <td>17.433992</td>\n",
       "      <td>8.307964</td>\n",
       "      <td>4.357545</td>\n",
       "      <td>1.683555</td>\n",
       "      <td>3.593488</td>\n",
       "      <td>6.137679</td>\n",
       "      <td>0.383688</td>\n",
       "      <td>1.061847</td>\n",
       "      <td>16.022916</td>\n",
       "      <td>0.987246</td>\n",
       "      <td>1.322984</td>\n",
       "      <td>10.578479</td>\n",
       "      <td>0.777119</td>\n",
       "      <td>1.360008</td>\n",
       "      <td>2.057774</td>\n",
       "      <td>1.471169</td>\n",
       "      <td>0.409759</td>\n",
       "      <td>0.429049</td>\n",
       "      <td>0.722541</td>\n",
       "      <td>0.485531</td>\n",
       "    </tr>\n",
       "    <tr>\n",
       "      <th>min</th>\n",
       "      <td>11.000000</td>\n",
       "      <td>3.100000</td>\n",
       "      <td>0.700000</td>\n",
       "      <td>0.300000</td>\n",
       "      <td>0.800000</td>\n",
       "      <td>23.800000</td>\n",
       "      <td>0.000000</td>\n",
       "      <td>0.000000</td>\n",
       "      <td>0.000000</td>\n",
       "      <td>0.000000</td>\n",
       "      <td>0.000000</td>\n",
       "      <td>0.000000</td>\n",
       "      <td>0.000000</td>\n",
       "      <td>0.200000</td>\n",
       "      <td>0.300000</td>\n",
       "      <td>0.000000</td>\n",
       "      <td>0.000000</td>\n",
       "      <td>0.000000</td>\n",
       "      <td>0.100000</td>\n",
       "      <td>0.000000</td>\n",
       "    </tr>\n",
       "    <tr>\n",
       "      <th>25%</th>\n",
       "      <td>47.000000</td>\n",
       "      <td>10.875000</td>\n",
       "      <td>3.700000</td>\n",
       "      <td>1.400000</td>\n",
       "      <td>3.300000</td>\n",
       "      <td>40.200000</td>\n",
       "      <td>0.000000</td>\n",
       "      <td>0.000000</td>\n",
       "      <td>0.000000</td>\n",
       "      <td>0.600000</td>\n",
       "      <td>0.900000</td>\n",
       "      <td>64.700000</td>\n",
       "      <td>0.400000</td>\n",
       "      <td>1.000000</td>\n",
       "      <td>1.500000</td>\n",
       "      <td>0.600000</td>\n",
       "      <td>0.300000</td>\n",
       "      <td>0.100000</td>\n",
       "      <td>0.700000</td>\n",
       "      <td>0.000000</td>\n",
       "    </tr>\n",
       "    <tr>\n",
       "      <th>50%</th>\n",
       "      <td>63.000000</td>\n",
       "      <td>16.100000</td>\n",
       "      <td>5.550000</td>\n",
       "      <td>2.100000</td>\n",
       "      <td>4.800000</td>\n",
       "      <td>44.100000</td>\n",
       "      <td>0.100000</td>\n",
       "      <td>0.300000</td>\n",
       "      <td>22.400000</td>\n",
       "      <td>1.000000</td>\n",
       "      <td>1.500000</td>\n",
       "      <td>71.250000</td>\n",
       "      <td>0.800000</td>\n",
       "      <td>1.700000</td>\n",
       "      <td>2.500000</td>\n",
       "      <td>1.100000</td>\n",
       "      <td>0.500000</td>\n",
       "      <td>0.200000</td>\n",
       "      <td>1.000000</td>\n",
       "      <td>1.000000</td>\n",
       "    </tr>\n",
       "    <tr>\n",
       "      <th>75%</th>\n",
       "      <td>77.000000</td>\n",
       "      <td>22.900000</td>\n",
       "      <td>8.800000</td>\n",
       "      <td>3.400000</td>\n",
       "      <td>7.500000</td>\n",
       "      <td>47.900000</td>\n",
       "      <td>0.400000</td>\n",
       "      <td>1.200000</td>\n",
       "      <td>32.500000</td>\n",
       "      <td>1.600000</td>\n",
       "      <td>2.300000</td>\n",
       "      <td>77.600000</td>\n",
       "      <td>1.400000</td>\n",
       "      <td>2.600000</td>\n",
       "      <td>4.000000</td>\n",
       "      <td>2.000000</td>\n",
       "      <td>0.800000</td>\n",
       "      <td>0.500000</td>\n",
       "      <td>1.500000</td>\n",
       "      <td>1.000000</td>\n",
       "    </tr>\n",
       "    <tr>\n",
       "      <th>max</th>\n",
       "      <td>82.000000</td>\n",
       "      <td>40.900000</td>\n",
       "      <td>28.200000</td>\n",
       "      <td>10.200000</td>\n",
       "      <td>19.800000</td>\n",
       "      <td>73.700000</td>\n",
       "      <td>2.300000</td>\n",
       "      <td>6.500000</td>\n",
       "      <td>100.000000</td>\n",
       "      <td>7.700000</td>\n",
       "      <td>10.200000</td>\n",
       "      <td>100.000000</td>\n",
       "      <td>5.300000</td>\n",
       "      <td>9.600000</td>\n",
       "      <td>13.900000</td>\n",
       "      <td>10.600000</td>\n",
       "      <td>2.500000</td>\n",
       "      <td>3.900000</td>\n",
       "      <td>4.400000</td>\n",
       "      <td>1.000000</td>\n",
       "    </tr>\n",
       "  </tbody>\n",
       "</table>\n",
       "</div>"
      ],
      "text/plain": [
       "       GamesPlayed  MinutesPlayed  PointsPerGame  FieldGoalsMade  \\\n",
       "count  1340.000000    1340.000000    1340.000000     1340.000000   \n",
       "mean     60.414179      17.624627       6.801493        2.629104   \n",
       "std      17.433992       8.307964       4.357545        1.683555   \n",
       "min      11.000000       3.100000       0.700000        0.300000   \n",
       "25%      47.000000      10.875000       3.700000        1.400000   \n",
       "50%      63.000000      16.100000       5.550000        2.100000   \n",
       "75%      77.000000      22.900000       8.800000        3.400000   \n",
       "max      82.000000      40.900000      28.200000       10.200000   \n",
       "\n",
       "       FieldGoalsAttempt  FieldGoalPercent   3PointMade  3PointAttempt  \\\n",
       "count        1340.000000       1340.000000  1340.000000    1340.000000   \n",
       "mean            5.885299         44.169403     0.247612       0.779179   \n",
       "std             3.593488          6.137679     0.383688       1.061847   \n",
       "min             0.800000         23.800000     0.000000       0.000000   \n",
       "25%             3.300000         40.200000     0.000000       0.000000   \n",
       "50%             4.800000         44.100000     0.100000       0.300000   \n",
       "75%             7.500000         47.900000     0.400000       1.200000   \n",
       "max            19.800000         73.700000     2.300000       6.500000   \n",
       "\n",
       "       3PointPercent  FreeThrowMade  FreeThrowAttempt  FreeThrowPercent  \\\n",
       "count    1329.000000    1340.000000       1340.000000       1340.000000   \n",
       "mean       19.308126       1.297687          1.821940         70.300299   \n",
       "std        16.022916       0.987246          1.322984         10.578479   \n",
       "min         0.000000       0.000000          0.000000          0.000000   \n",
       "25%         0.000000       0.600000          0.900000         64.700000   \n",
       "50%        22.400000       1.000000          1.500000         71.250000   \n",
       "75%        32.500000       1.600000          2.300000         77.600000   \n",
       "max       100.000000       7.700000         10.200000        100.000000   \n",
       "\n",
       "       OffensiveRebounds  DefensiveRebounds     Rebounds      Assists  \\\n",
       "count        1340.000000        1340.000000  1340.000000  1340.000000   \n",
       "mean            1.009403           2.025746     3.034478     1.550522   \n",
       "std             0.777119           1.360008     2.057774     1.471169   \n",
       "min             0.000000           0.200000     0.300000     0.000000   \n",
       "25%             0.400000           1.000000     1.500000     0.600000   \n",
       "50%             0.800000           1.700000     2.500000     1.100000   \n",
       "75%             1.400000           2.600000     4.000000     2.000000   \n",
       "max             5.300000           9.600000    13.900000    10.600000   \n",
       "\n",
       "            Steals       Blocks    Turnovers       Target  \n",
       "count  1340.000000  1340.000000  1340.000000  1340.000000  \n",
       "mean      0.618507     0.368582     1.193582     0.620149  \n",
       "std       0.409759     0.429049     0.722541     0.485531  \n",
       "min       0.000000     0.000000     0.100000     0.000000  \n",
       "25%       0.300000     0.100000     0.700000     0.000000  \n",
       "50%       0.500000     0.200000     1.000000     1.000000  \n",
       "75%       0.800000     0.500000     1.500000     1.000000  \n",
       "max       2.500000     3.900000     4.400000     1.000000  "
      ]
     },
     "execution_count": 12,
     "metadata": {},
     "output_type": "execute_result"
    }
   ],
   "source": [
    "data_set.describe()"
   ]
  },
  {
   "cell_type": "code",
   "execution_count": 13,
   "metadata": {
    "colab": {
     "base_uri": "https://localhost:8080/"
    },
    "id": "nSdQDD1shK6-",
    "outputId": "b6e44455-18f5-4610-c161-f88a43c7ec0f"
   },
   "outputs": [
    {
     "data": {
      "text/plain": [
       "Name                  0\n",
       "GamesPlayed           0\n",
       "MinutesPlayed         0\n",
       "PointsPerGame         0\n",
       "FieldGoalsMade        0\n",
       "FieldGoalsAttempt     0\n",
       "FieldGoalPercent      0\n",
       "3PointMade            0\n",
       "3PointAttempt         0\n",
       "3PointPercent        11\n",
       "FreeThrowMade         0\n",
       "FreeThrowAttempt      0\n",
       "FreeThrowPercent      0\n",
       "OffensiveRebounds     0\n",
       "DefensiveRebounds     0\n",
       "Rebounds              0\n",
       "Assists               0\n",
       "Steals                0\n",
       "Blocks                0\n",
       "Turnovers             0\n",
       "Target                0\n",
       "dtype: int64"
      ]
     },
     "execution_count": 13,
     "metadata": {},
     "output_type": "execute_result"
    }
   ],
   "source": [
    "data_set.isnull().sum()\n"
   ]
  },
  {
   "cell_type": "code",
   "execution_count": 14,
   "metadata": {
    "id": "Qk2SiD_lhO7D"
   },
   "outputs": [],
   "source": [
    "# we fill zero value with the mean of all values\n",
    "data_set['3PointPercent']=data_set['3PointPercent'].fillna(data_set['3PointPercent'].mean())"
   ]
  },
  {
   "cell_type": "code",
   "execution_count": 15,
   "metadata": {
    "id": "nuu0RSz6hhYm"
   },
   "outputs": [],
   "source": [
    "#we dont need names of players\n",
    "data_set=data_set.drop(['Name'],axis=1)"
   ]
  },
  {
   "cell_type": "markdown",
   "metadata": {
    "id": "JYmXm7cWhqoR"
   },
   "source": [
    "Developing the Model and Finding the Best Solution"
   ]
  },
  {
   "cell_type": "code",
   "execution_count": 16,
   "metadata": {
    "id": "Zb3Cw7VAhoKV"
   },
   "outputs": [],
   "source": [
    "# Split the data into targets and features \n",
    "y = data_set['Target'] # take all the value of Targets\n",
    "X = data_set.drop(['Target'],axis=1) # drop the column of Targets"
   ]
  },
  {
   "cell_type": "code",
   "execution_count": 17,
   "metadata": {
    "colab": {
     "base_uri": "https://localhost:8080/"
    },
    "id": "nMvvjEiuh8ak",
    "outputId": "f510c5b3-70f4-40a6-9082-a26d77feea79"
   },
   "outputs": [
    {
     "name": "stdout",
     "output_type": "stream",
     "text": [
      "The best accuracy was 0.72886 , using this many features: 8\n",
      "Logistic was the best model.\n"
     ]
    }
   ],
   "source": [
    "# Use ANOVA to select best features\n",
    "# Since the data is small enough, we will check many models and features to be comprehensive.\n",
    "\n",
    "bestAcc = 0\n",
    "numFeatures = 0\n",
    "KNN_size = 0\n",
    "logistic = False\n",
    "SVM = False\n",
    "tree = False\n",
    "KNN = False\n",
    "naive = False\n",
    "\n",
    "# Check different models and their accuracies \n",
    "# Loop 1 through 10, for 1-10 amount of ANOVA features\n",
    "for i in range(1,13):\n",
    "        # Selection best i features        \n",
    "        fvalue_selector = SelectKBest(f_classif, k=i)\n",
    "        newX = fvalue_selector.fit_transform(X, y)\n",
    "        \n",
    "        X_train, X_test, y_train, y_test = train_test_split(newX, y, random_state=0, test_size=0.3)\n",
    "        \n",
    "        # Check Logistic Regression model\n",
    "        logistic = LogisticRegression(max_iter = 10000)\n",
    "        logistic.fit(X_train, y_train)\n",
    "        prediction = logistic.predict(X_test)\n",
    "        score = accuracy_score(y_test, prediction)\n",
    "        if score > bestAcc:\n",
    "            bestAcc = score\n",
    "            logistic = True\n",
    "            SVM = False\n",
    "            tree = False\n",
    "            KNN = False\n",
    "            naive = False\n",
    "            numFeatures = i\n",
    "        \n",
    "        # Check KNN model\n",
    "        for j in range(1,10):\n",
    "            knn = KNeighborsClassifier(n_neighbors = j)\n",
    "            knn.fit(X_train, y_train)\n",
    "            prediction = knn.predict(X_test)\n",
    "            score = accuracy_score(y_test, prediction)\n",
    "            if score > bestAcc:\n",
    "                bestAcc = score\n",
    "                numFeatures = i\n",
    "                KNN_size = j\n",
    "                logistic = False\n",
    "                SVM = False\n",
    "                tree = False\n",
    "                KNN = True\n",
    "                naive = False\n",
    "                \n",
    "\n",
    "        # Check Naive Bayes\n",
    "        nb = GaussianNB()\n",
    "        prediction = nb.fit(X_train, y_train).predict(X_test)\n",
    "        score = accuracy_score(y_test, prediction)\n",
    "        if score > bestAcc:\n",
    "            bestAcc = score\n",
    "            logistic = False\n",
    "            SVM = False\n",
    "            tree = False\n",
    "            KNN = False\n",
    "            naive = True\n",
    "            numFeatures = i\n",
    "        \n",
    "        # Check SVM\n",
    "        sv = svm.SVC()\n",
    "        sv = sv.fit(X_train, y_train)\n",
    "        prediction = sv.predict(X_test)\n",
    "        score = accuracy_score(y_test, prediction)\n",
    "        if score > bestAcc:\n",
    "            bestAcc = score\n",
    "            logistic = False\n",
    "            SVM = True\n",
    "            tree = False\n",
    "            KNN = False\n",
    "            naive = False\n",
    "            numFeatures = i \n",
    "                \n",
    "                \n",
    "print(\"The best accuracy was\", round(bestAcc, 5), \", using this many features:\", numFeatures)\n",
    "\n",
    "\n",
    "if logistic:\n",
    "    print(\"Logistic was the best model.\")\n",
    "elif SVM:\n",
    "    print(\"SVM was the best model.\")\n",
    "elif naive:\n",
    "    print(\"Naive Bayes was the best model.\")\n",
    "else:\n",
    "    print(\"KNN was the best model\")"
   ]
  },
  {
   "cell_type": "code",
   "execution_count": 18,
   "metadata": {
    "colab": {
     "base_uri": "https://localhost:8080/"
    },
    "id": "wUYDsQYgiIt8",
    "outputId": "cc912bac-85b6-4326-9f69-cc8dd430e2ed"
   },
   "outputs": [
    {
     "name": "stdout",
     "output_type": "stream",
     "text": [
      "The top 8 most important features were as follows\n"
     ]
    },
    {
     "data": {
      "text/plain": [
       "['GamesPlayed',\n",
       " 'MinutesPlayed',\n",
       " 'PointsPerGame',\n",
       " 'FieldGoalsMade',\n",
       " 'FreeThrowMade',\n",
       " 'FreeThrowAttempt',\n",
       " 'OffensiveRebounds',\n",
       " 'Rebounds']"
      ]
     },
     "execution_count": 18,
     "metadata": {},
     "output_type": "execute_result"
    }
   ],
   "source": [
    "# See which features were important\n",
    "\n",
    "selector = SelectKBest(f_classif, k=numFeatures)\n",
    "selector.fit(X, y)\n",
    "# Get columns to keep and create new dataframe with those only\n",
    "cols = selector.get_support(indices=True)\n",
    "topFeatures = X.iloc[:,cols]\n",
    "\n",
    "print(\"The top 8 most important features were as follows\")\n",
    "list(topFeatures.columns)"
   ]
  },
  {
   "cell_type": "markdown",
   "metadata": {
    "id": "7yBM18WzikXY"
   },
   "source": [
    "После проверки различных моделей с различными выбранными функциями я обнаружил, что идеальное количество функций - 8, чтобы предсказать, является ли игрок игроком более или менее 5 лет. Моя модель смогла предсказать с точностью 0,7288."
   ]
  },
  {
   "cell_type": "markdown",
   "metadata": {
    "id": "bL0e3lgUimB8"
   },
   "source": [
    "**Наиболее важными особенностями были**\n",
    "* Сыгранные игры\n",
    "* Сыгранные минуты\n",
    "* Цели На местах, Достигнутые\n",
    "* Выполненные Штрафные броски\n",
    "* Попытки штрафного броска\n",
    "* Атакующие подборы\n",
    "* Подборы"
   ]
  },
  {
   "cell_type": "markdown",
   "metadata": {
    "id": "oe-GbRRYi2zU"
   },
   "source": [
    "Первые 2 имеют наибольший смысл, поскольку они логически были бы самой сильной корреляцией. Я не профессионал в баскетболе, поэтому я не знаю, что такое полевые голы, но корреляция штрафных бросков имеет смысл, поскольку многие игроки будут бросать их, независимо от позиции, аналогично подборам. Я подозреваю, что если бы у нас была функция определения позиций игроков, мы могли бы разработать модель с более высокой точностью, поскольку статистика, вероятно, сильно зависит от позиции игрока. Игнорирование позиций группирует статистику в одну, делая ее более общей."
   ]
  }
 ],
 "metadata": {
  "colab": {
   "collapsed_sections": [],
   "name": "Вар_10.ipynb",
   "provenance": []
  },
  "kernelspec": {
   "display_name": "Python 3 (ipykernel)",
   "language": "python",
   "name": "python3"
  },
  "language_info": {
   "codemirror_mode": {
    "name": "ipython",
    "version": 3
   },
   "file_extension": ".py",
   "mimetype": "text/x-python",
   "name": "python",
   "nbconvert_exporter": "python",
   "pygments_lexer": "ipython3",
   "version": "3.9.13"
  }
 },
 "nbformat": 4,
 "nbformat_minor": 1
}
