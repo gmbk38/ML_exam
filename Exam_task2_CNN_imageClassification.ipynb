{
 "nbformat": 4,
 "nbformat_minor": 0,
 "metadata": {
  "colab": {
   "provenance": [],
   "gpuType": "T4"
  },
  "kernelspec": {
   "name": "python3",
   "language": "python",
   "display_name": "Python 3 (ipykernel)"
  },
  "language_info": {
   "name": "python"
  }
 },
 "cells": [
  {
   "cell_type": "markdown",
   "source": [
    "# Задание №2 CNN (сверточная нейросеть)\n",
    "Задача классификации\n",
    "\n",
    "Реализовав сверточную нейронную сеть при помощи библиотеки PyTorch, решите задачу классификации изображений (могут быть не только изображения, а численные переменные и текст). Разделите набор данных на обучающее и тестовое множество. Выполните предобработку данных (приведите изображения к одному размеру и преобразуйте в тензоры). Отобразите графики значений функции потерь на обучающем множестве. Отобразите confusion matrix и classification report, рассчитанные на основе тестового множества.\n",
    "- Датасет: images/chars. (20 баллов)\n"
   ],
   "metadata": {
    "collapsed": false
   }
  },
  {
   "cell_type": "code",
   "execution_count": 61,
   "metadata": {
    "id": "AsORgovCbp2o",
    "ExecuteTime": {
     "start_time": "2023-06-11T21:36:20.271373Z",
     "end_time": "2023-06-11T21:36:20.295289Z"
    }
   },
   "outputs": [],
   "source": [
    "import os\n",
    "import numpy as np\n",
    "import torch\n",
    "import glob\n",
    "import torch.nn as nn\n",
    "from torchvision.transforms import transforms\n",
    "from torch.utils.data import DataLoader\n",
    "from torch.optim import Adam\n",
    "from torch.autograd import Variable\n",
    "import torchvision\n",
    "import pathlib\n",
    "from sklearn.metrics import classification_report, confusion_matrix\n",
    "import matplotlib.pyplot as plt\n",
    "import pandas as pd\n",
    "import seaborn as sns"
   ]
  },
  {
   "cell_type": "code",
   "source": [
    "#checking for device\n",
    "device=torch.device('cuda' if torch.cuda.is_available() else 'cpu')"
   ],
   "metadata": {
    "id": "ZWzgDllqbsD7",
    "ExecuteTime": {
     "start_time": "2023-06-11T21:36:20.876051Z",
     "end_time": "2023-06-11T21:36:20.891494Z"
    }
   },
   "execution_count": 62,
   "outputs": []
  },
  {
   "cell_type": "code",
   "source": [
    "print(device)"
   ],
   "metadata": {
    "colab": {
     "base_uri": "https://localhost:8080/"
    },
    "id": "OO7He7cqb4Nl",
    "outputId": "f1c46025-69f3-4c5d-eb37-173562e41c5d",
    "ExecuteTime": {
     "start_time": "2023-06-11T21:36:21.569558Z",
     "end_time": "2023-06-11T21:36:21.589342Z"
    }
   },
   "execution_count": 63,
   "outputs": [
    {
     "name": "stdout",
     "output_type": "stream",
     "text": [
      "cpu\n"
     ]
    }
   ]
  },
  {
   "cell_type": "markdown",
   "source": [
    "Image transformations"
   ],
   "metadata": {
    "collapsed": false
   }
  },
  {
   "cell_type": "code",
   "source": [
    "#Transforms\n",
    "transformer=transforms.Compose([\n",
    "    transforms.Resize((150,150)),\n",
    "    transforms.RandomHorizontalFlip(),\n",
    "    transforms.ToTensor(),  #0-255 to 0-1, numpy to tensors\n",
    "    transforms.Normalize([0.5,0.5,0.5], # 0-1 to [-1,1] , formula (x-mean)/std\n",
    "                         [0.5,0.5,0.5])\n",
    "])"
   ],
   "metadata": {
    "id": "QXquJ8PLb6FO",
    "ExecuteTime": {
     "start_time": "2023-06-11T21:36:22.082436Z",
     "end_time": "2023-06-11T21:36:22.100009Z"
    }
   },
   "execution_count": 64,
   "outputs": []
  },
  {
   "cell_type": "markdown",
   "source": [
    "Dataloaders"
   ],
   "metadata": {
    "collapsed": false
   }
  },
  {
   "cell_type": "code",
   "source": [
    "#Path for training and testing directory\n",
    "train_path='PandasBears/Train'\n",
    "test_path='PandasBears/Test'\n",
    "\n",
    "train_loader=DataLoader(\n",
    "    torchvision.datasets.ImageFolder(train_path,transform=transformer),\n",
    "    batch_size=50, shuffle=True\n",
    ")\n",
    "test_loader=DataLoader(\n",
    "    torchvision.datasets.ImageFolder(test_path,transform=transformer),\n",
    "    batch_size=25, shuffle=True\n",
    ")"
   ],
   "metadata": {
    "id": "Qg52UvWHb9Ls",
    "ExecuteTime": {
     "start_time": "2023-06-11T21:36:22.650227Z",
     "end_time": "2023-06-11T21:36:22.671483Z"
    }
   },
   "execution_count": 65,
   "outputs": []
  },
  {
   "cell_type": "markdown",
   "source": [
    "Extracting categories"
   ],
   "metadata": {
    "collapsed": false
   }
  },
  {
   "cell_type": "code",
   "source": [
    "#categories\n",
    "root=pathlib.Path(train_path)\n",
    "classes=sorted([j.name.split('/')[-1] for j in root.iterdir()])"
   ],
   "metadata": {
    "id": "KIJJZ1u1jwaQ",
    "ExecuteTime": {
     "start_time": "2023-06-11T21:36:23.300512Z",
     "end_time": "2023-06-11T21:36:23.310604Z"
    }
   },
   "execution_count": 66,
   "outputs": []
  },
  {
   "cell_type": "code",
   "source": [
    "print(classes)"
   ],
   "metadata": {
    "colab": {
     "base_uri": "https://localhost:8080/"
    },
    "id": "1pzE_IzdkJsD",
    "outputId": "bf2b7712-fd66-4357-f342-72b7450e4da1",
    "ExecuteTime": {
     "start_time": "2023-06-11T21:36:23.862081Z",
     "end_time": "2023-06-11T21:36:23.876804Z"
    }
   },
   "execution_count": 67,
   "outputs": [
    {
     "name": "stdout",
     "output_type": "stream",
     "text": [
      "['.DS_Store', 'Bears', 'Pandas']\n"
     ]
    }
   ]
  },
  {
   "cell_type": "code",
   "execution_count": 68,
   "outputs": [
    {
     "data": {
      "text/plain": "'.DS_Store'"
     },
     "execution_count": 68,
     "metadata": {},
     "output_type": "execute_result"
    }
   ],
   "source": [
    "#use in case something sinks in\n",
    "classes.pop(0)"
   ],
   "metadata": {
    "collapsed": false,
    "ExecuteTime": {
     "start_time": "2023-06-11T21:36:33.229333Z",
     "end_time": "2023-06-11T21:36:33.283656Z"
    }
   }
  },
  {
   "cell_type": "markdown",
   "source": [
    "CNN Network"
   ],
   "metadata": {
    "collapsed": false
   }
  },
  {
   "cell_type": "code",
   "source": [
    "class ConvNet(nn.Module):\n",
    "    def __init__(self,num_classes=2):\n",
    "        super(ConvNet,self).__init__()\n",
    "        \n",
    "        #Output size after convolution filter\n",
    "        #((w-f+2P)/s) +1\n",
    "        \n",
    "        #Input shape= (256,3,150,150)\n",
    "        \n",
    "        self.conv1=nn.Conv2d(in_channels=3,out_channels=12,kernel_size=3,stride=1,padding=1)\n",
    "        #Shape= (256,12,150,150)\n",
    "        self.bn1=nn.BatchNorm2d(num_features=12)\n",
    "        #Shape= (256,12,150,150)\n",
    "        self.relu1=nn.ReLU()\n",
    "        #Shape= (256,12,150,150)\n",
    "        \n",
    "        self.pool=nn.MaxPool2d(kernel_size=2)\n",
    "        #Reduce the image size be factor 2\n",
    "        #Shape= (256,12,75,75)\n",
    "        \n",
    "        \n",
    "        self.conv2=nn.Conv2d(in_channels=12,out_channels=20,kernel_size=3,stride=1,padding=1)\n",
    "        #Shape= (256,20,75,75)\n",
    "        self.relu2=nn.ReLU()\n",
    "        #Shape= (256,20,75,75)\n",
    "        \n",
    "        \n",
    "        \n",
    "        self.conv3=nn.Conv2d(in_channels=20,out_channels=32,kernel_size=3,stride=1,padding=1)\n",
    "        #Shape= (256,32,75,75)\n",
    "        self.bn3=nn.BatchNorm2d(num_features=32)\n",
    "        #Shape= (256,32,75,75)\n",
    "        self.relu3=nn.ReLU()\n",
    "        #Shape= (256,32,75,75)\n",
    "        \n",
    "        \n",
    "        self.fc=nn.Linear(in_features=75 * 75 * 32,out_features=num_classes)\n",
    "        \n",
    "        \n",
    "        \n",
    "        #Feed forwad function\n",
    "        \n",
    "    def forward(self,input):\n",
    "        output=self.conv1(input)\n",
    "        output=self.bn1(output)\n",
    "        output=self.relu1(output)\n",
    "            \n",
    "        output=self.pool(output)\n",
    "            \n",
    "        output=self.conv2(output)\n",
    "        output=self.relu2(output)\n",
    "            \n",
    "        output=self.conv3(output)\n",
    "        output=self.bn3(output)\n",
    "        output=self.relu3(output)\n",
    "            \n",
    "            \n",
    "            #Above output will be in matrix form, with shape (256,32,75,75)\n",
    "            \n",
    "        output=output.view(-1,32*75*75)\n",
    "            \n",
    "            \n",
    "        output=self.fc(output)\n",
    "            \n",
    "        return output\n"
   ],
   "metadata": {
    "id": "iF6BLb1EkMuG",
    "ExecuteTime": {
     "start_time": "2023-06-11T21:36:35.873439Z",
     "end_time": "2023-06-11T21:36:35.920016Z"
    }
   },
   "execution_count": 69,
   "outputs": []
  },
  {
   "cell_type": "markdown",
   "source": [
    "Learning params"
   ],
   "metadata": {
    "collapsed": false
   }
  },
  {
   "cell_type": "code",
   "source": [
    "model=ConvNet(num_classes=2).to(device)"
   ],
   "metadata": {
    "id": "0m5jTPi8nMeX",
    "ExecuteTime": {
     "start_time": "2023-06-11T21:36:37.585156Z",
     "end_time": "2023-06-11T21:36:37.614550Z"
    }
   },
   "execution_count": 70,
   "outputs": []
  },
  {
   "cell_type": "code",
   "source": [
    "#Optmizer and loss function\n",
    "optimizer=Adam(model.parameters(),lr=0.001,weight_decay=0.0001)\n",
    "loss_function=nn.CrossEntropyLoss()"
   ],
   "metadata": {
    "id": "gwhhEqdonN6M",
    "ExecuteTime": {
     "start_time": "2023-06-11T21:36:39.334107Z",
     "end_time": "2023-06-11T21:36:39.356876Z"
    }
   },
   "execution_count": 71,
   "outputs": []
  },
  {
   "cell_type": "code",
   "source": [
    "num_epochs=5"
   ],
   "metadata": {
    "id": "TAbS5MxdnhR8",
    "ExecuteTime": {
     "start_time": "2023-06-11T21:36:40.723024Z",
     "end_time": "2023-06-11T21:36:40.744962Z"
    }
   },
   "execution_count": 72,
   "outputs": []
  },
  {
   "cell_type": "markdown",
   "source": [
    "Set's lengths"
   ],
   "metadata": {
    "collapsed": false
   }
  },
  {
   "cell_type": "code",
   "source": [
    "#calculating the size of training and testing images\n",
    "train_count=len(glob.glob(train_path+'/*/*'))\n",
    "test_count=len(glob.glob(test_path+'/*/*'))"
   ],
   "metadata": {
    "id": "TxOhqA25nQcq",
    "ExecuteTime": {
     "start_time": "2023-06-11T21:36:41.719819Z",
     "end_time": "2023-06-11T21:36:41.740805Z"
    }
   },
   "execution_count": 73,
   "outputs": []
  },
  {
   "cell_type": "code",
   "source": [
    "print(train_count,test_count)"
   ],
   "metadata": {
    "colab": {
     "base_uri": "https://localhost:8080/"
    },
    "id": "yAagQMq8nTx8",
    "outputId": "cfa4e2c9-7d22-4939-cbc1-333de90a8c08",
    "ExecuteTime": {
     "start_time": "2023-06-11T21:36:42.896537Z",
     "end_time": "2023-06-11T21:36:42.922512Z"
    }
   },
   "execution_count": 74,
   "outputs": [
    {
     "name": "stdout",
     "output_type": "stream",
     "text": [
      "500 100\n"
     ]
    }
   ]
  },
  {
   "cell_type": "markdown",
   "source": [
    "Model training and saving best model"
   ],
   "metadata": {
    "collapsed": false
   }
  },
  {
   "cell_type": "code",
   "source": [
    "best_accuracy=0.0\n",
    "lossHist = []\n",
    "test_pred = []\n",
    "test_true = []\n",
    "# test_pred1 = []\n",
    "# test_true1 = []\n",
    "\n",
    "for epoch in range(num_epochs):\n",
    "    \n",
    "    #Evaluation and training on training dataset\n",
    "    model.train()\n",
    "    train_accuracy=0.0\n",
    "    train_loss=0.0\n",
    "    \n",
    "    for i, (images,labels) in enumerate(train_loader):\n",
    "        if torch.cuda.is_available():\n",
    "            images=Variable(images.cuda())\n",
    "            labels=Variable(labels.cuda())\n",
    "            \n",
    "        optimizer.zero_grad()\n",
    "        \n",
    "        outputs=model(images)\n",
    "        loss=loss_function(outputs,labels)\n",
    "        loss.backward()\n",
    "        optimizer.step()\n",
    "        \n",
    "        \n",
    "        train_loss+= loss.cpu().data*images.size(0)\n",
    "        _,prediction=torch.max(outputs.data,1)\n",
    "        \n",
    "        train_accuracy+=int(torch.sum(prediction==labels.data))\n",
    "\n",
    "\n",
    "    train_accuracy=train_accuracy/train_count\n",
    "    train_loss=train_loss/train_count\n",
    "    lossHist.append(train_loss.detach().numpy())\n",
    "    \n",
    "    \n",
    "    # Evaluation on testing dataset\n",
    "    model.eval()\n",
    "    \n",
    "    test_accuracy=0.0\n",
    "    for i, (images,labels) in enumerate(test_loader):\n",
    "        if torch.cuda.is_available():\n",
    "            images=Variable(images.cuda())\n",
    "            labels=Variable(labels.cuda())\n",
    "            \n",
    "        outputs=model(images)\n",
    "        _,prediction=torch.max(outputs.data,1)\n",
    "        test_accuracy+=int(torch.sum(prediction==labels.data))\n",
    "        # test_pred1.append(prediction)\n",
    "        # test_true1.append(labels)\n",
    "\n",
    "\n",
    "    test_pred.append(prediction)\n",
    "    test_true.append(labels)\n",
    "    test_accuracy=test_accuracy/test_count\n",
    "    \n",
    "    \n",
    "    print('Epoch: '+str(epoch)+' Train Loss: '+str(train_loss)+' Train Accuracy: '+str(train_accuracy)+' Test Accuracy: '+str(test_accuracy))\n",
    "    \n",
    "    #Save the best model\n",
    "    if test_accuracy>best_accuracy:\n",
    "        torch.save(model.state_dict(),'best_checkpoint.model')\n",
    "        best_accuracy=test_accuracy\n"
   ],
   "metadata": {
    "colab": {
     "base_uri": "https://localhost:8080/"
    },
    "id": "ySVRCwoZnV0B",
    "outputId": "b1f31a7d-5c1e-4c5b-bc3c-94d214efb16a",
    "ExecuteTime": {
     "start_time": "2023-06-11T21:37:58.795372Z",
     "end_time": "2023-06-11T21:41:37.737033Z"
    }
   },
   "execution_count": 75,
   "outputs": [
    {
     "name": "stdout",
     "output_type": "stream",
     "text": [
      "Epoch: 0 Train Loss: tensor(7.1352) Train Accuracy: 0.784 Test Accuracy: 0.89\n",
      "Epoch: 1 Train Loss: tensor(0.6990) Train Accuracy: 0.984 Test Accuracy: 0.92\n",
      "Epoch: 2 Train Loss: tensor(0.1747) Train Accuracy: 0.996 Test Accuracy: 0.99\n",
      "Epoch: 3 Train Loss: tensor(0.) Train Accuracy: 1.0 Test Accuracy: 1.0\n",
      "Epoch: 4 Train Loss: tensor(0.0242) Train Accuracy: 0.998 Test Accuracy: 1.0\n"
     ]
    }
   ]
  },
  {
   "cell_type": "markdown",
   "source": [
    "Data for loss graph"
   ],
   "metadata": {
    "collapsed": false
   }
  },
  {
   "cell_type": "code",
   "source": [
    "print(len(lossHist))\n",
    "print(lossHist)"
   ],
   "metadata": {
    "colab": {
     "base_uri": "https://localhost:8080/"
    },
    "id": "hSHVLgFQFKK8",
    "outputId": "93cf9374-b7c4-4730-86ba-4b2a7ef9af1c",
    "ExecuteTime": {
     "start_time": "2023-06-11T22:20:10.489982Z",
     "end_time": "2023-06-11T22:20:10.508501Z"
    }
   },
   "execution_count": 115,
   "outputs": [
    {
     "name": "stdout",
     "output_type": "stream",
     "text": [
      "5\n",
      "[array(7.135188, dtype=float32), array(0.6990492, dtype=float32), array(0.1746522, dtype=float32), array(0., dtype=float32), array(0.02415455, dtype=float32)]\n"
     ]
    }
   ]
  },
  {
   "cell_type": "code",
   "source": [
    "plt.plot(lossHist)\n",
    "plt.title('Loss through epoches')\n",
    "plt.xlabel(\"Epoch\")\n",
    "plt.ylabel(\"Loss value\")\n",
    "plt.show()"
   ],
   "metadata": {
    "colab": {
     "base_uri": "https://localhost:8080/",
     "height": 445
    },
    "id": "mwmJap9GuETb",
    "outputId": "0bdcc03b-406d-41f6-d7a7-b03358240c8f",
    "ExecuteTime": {
     "start_time": "2023-06-11T22:21:56.986207Z",
     "end_time": "2023-06-11T22:21:58.310693Z"
    }
   },
   "execution_count": 116,
   "outputs": [
    {
     "data": {
      "text/plain": "<Figure size 640x480 with 1 Axes>",
      "image/png": "[encoded data removed]"
     },
     "metadata": {},
     "output_type": "display_data"
    }
   ]
  },
  {
   "cell_type": "markdown",
   "source": [
    "True and predicted values on test data"
   ],
   "metadata": {
    "collapsed": false
   }
  },
  {
   "cell_type": "code",
   "source": [
    "print(len(test_true))\n",
    "print(len(test_pred))"
   ],
   "metadata": {
    "colab": {
     "base_uri": "https://localhost:8080/"
    },
    "id": "Qj5LBI1TA55Y",
    "outputId": "176c9055-323e-4800-bf0f-af4813365593",
    "ExecuteTime": {
     "start_time": "2023-06-11T21:44:54.207821Z",
     "end_time": "2023-06-11T21:44:54.231215Z"
    }
   },
   "execution_count": 79,
   "outputs": [
    {
     "name": "stdout",
     "output_type": "stream",
     "text": [
      "5\n",
      "5\n"
     ]
    }
   ]
  },
  {
   "cell_type": "code",
   "execution_count": 87,
   "outputs": [
    {
     "name": "stdout",
     "output_type": "stream",
     "text": [
      "[tensor([0, 0, 0, 1, 1, 1, 0, 0, 1, 0, 0, 1, 0, 1, 0, 1, 1, 1, 0, 1, 0, 1, 1, 1,\n",
      "        1]), tensor([1, 0, 0, 1, 1, 1, 1, 0, 1, 0, 0, 1, 0, 0, 1, 1, 1, 1, 0, 1, 0, 0, 0, 1,\n",
      "        0]), tensor([1, 0, 0, 0, 0, 1, 0, 0, 0, 1, 1, 1, 1, 0, 1, 0, 0, 1, 1, 1, 0, 0, 0, 1,\n",
      "        1]), tensor([0, 0, 1, 1, 1, 0, 1, 0, 1, 1, 1, 1, 1, 0, 1, 0, 1, 0, 0, 0, 1, 1, 1, 0,\n",
      "        0]), tensor([1, 1, 0, 1, 1, 0, 1, 0, 1, 0, 1, 0, 1, 1, 0, 0, 1, 0, 1, 1, 0, 0, 1, 0,\n",
      "        0])]\n",
      "[tensor([0, 0, 0, 1, 1, 1, 0, 0, 1, 0, 0, 1, 1, 1, 0, 1, 1, 1, 0, 1, 0, 1, 1, 1,\n",
      "        1]), tensor([1, 0, 0, 1, 1, 1, 1, 0, 1, 0, 0, 1, 0, 0, 1, 1, 1, 1, 0, 1, 0, 0, 0, 1,\n",
      "        1]), tensor([1, 0, 0, 0, 0, 1, 0, 0, 0, 1, 1, 1, 1, 0, 1, 0, 0, 1, 1, 1, 0, 0, 0, 1,\n",
      "        1]), tensor([0, 0, 1, 1, 1, 0, 1, 0, 1, 1, 1, 1, 1, 0, 1, 0, 1, 0, 0, 0, 1, 1, 1, 0,\n",
      "        0]), tensor([1, 1, 0, 1, 1, 0, 1, 0, 1, 0, 1, 0, 1, 1, 0, 0, 1, 0, 1, 1, 0, 0, 1, 0,\n",
      "        0])]\n"
     ]
    }
   ],
   "source": [
    "print(test_true)\n",
    "print(test_pred)"
   ],
   "metadata": {
    "collapsed": false,
    "ExecuteTime": {
     "start_time": "2023-06-11T21:48:10.726454Z",
     "end_time": "2023-06-11T21:48:10.744984Z"
    }
   }
  },
  {
   "cell_type": "code",
   "source": [
    "# print(len(test_true1))\n",
    "# print(len(test_pred1))\n",
    "# print(test_true1)\n",
    "# print(test_pred1)"
   ],
   "metadata": {
    "colab": {
     "base_uri": "https://localhost:8080/"
    },
    "id": "qQD-hdqXBjUa",
    "outputId": "b1fdd4c1-ef1f-4748-8184-15ea1df43aae",
    "ExecuteTime": {
     "start_time": "2023-06-11T22:04:16.975309Z",
     "end_time": "2023-06-11T22:04:16.982217Z"
    }
   },
   "execution_count": 96,
   "outputs": []
  },
  {
   "cell_type": "markdown",
   "source": [
    "Joining tensors in each"
   ],
   "metadata": {
    "collapsed": false
   }
  },
  {
   "cell_type": "code",
   "execution_count": 91,
   "outputs": [
    {
     "data": {
      "text/plain": "125"
     },
     "execution_count": 91,
     "metadata": {},
     "output_type": "execute_result"
    }
   ],
   "source": [
    "T = test_true[0]\n",
    "for t in test_true[1:]:\n",
    "    T = torch.cat((T, t))\n",
    "len(T)"
   ],
   "metadata": {
    "collapsed": false,
    "ExecuteTime": {
     "start_time": "2023-06-11T22:02:22.890134Z",
     "end_time": "2023-06-11T22:02:22.930918Z"
    }
   }
  },
  {
   "cell_type": "code",
   "execution_count": 92,
   "outputs": [
    {
     "data": {
      "text/plain": "125"
     },
     "execution_count": 92,
     "metadata": {},
     "output_type": "execute_result"
    }
   ],
   "source": [
    "T_pred = test_pred[0]\n",
    "for t in test_pred[1:]:\n",
    "    T_pred = torch.cat((T_pred, t))\n",
    "len(T_pred)"
   ],
   "metadata": {
    "collapsed": false,
    "ExecuteTime": {
     "start_time": "2023-06-11T22:02:23.946940Z",
     "end_time": "2023-06-11T22:02:23.969378Z"
    }
   }
  },
  {
   "cell_type": "code",
   "execution_count": 95,
   "outputs": [],
   "source": [
    "# T1 = test_true1[0]\n",
    "# for t in test_true1[1:]:\n",
    "#     T1 = torch.cat((T1, t))\n",
    "# len(T1)\n",
    "#\n",
    "# T_pred1 = test_pred1[0]\n",
    "# for t in test_pred1[1:]:\n",
    "#     T_pred1 = torch.cat((T_pred1, t))\n",
    "#\n",
    "# len(T_pred1)"
   ],
   "metadata": {
    "collapsed": false,
    "ExecuteTime": {
     "start_time": "2023-06-11T22:03:59.085453Z",
     "end_time": "2023-06-11T22:03:59.107006Z"
    }
   }
  },
  {
   "cell_type": "markdown",
   "source": [
    "Confusion matrix"
   ],
   "metadata": {
    "collapsed": false
   }
  },
  {
   "cell_type": "code",
   "source": [
    "arr = confusion_matrix(T.view(-1).detach().cpu().numpy(), T_pred.view(-1).detach().cpu().numpy())\n",
    "df_cm = pd.DataFrame(arr, classes, classes)\n",
    "plt.figure(figsize = (9,6))\n",
    "sns.heatmap(df_cm, annot=True, fmt=\"d\", cmap='BuGn')\n",
    "plt.title('Confusion matrix')\n",
    "plt.xlabel(\"prediction\")\n",
    "plt.ylabel(\"label (ground truth)\")\n",
    "plt.show()"
   ],
   "metadata": {
    "colab": {
     "base_uri": "https://localhost:8080/",
     "height": 542
    },
    "id": "YqU930Ka_VLr",
    "outputId": "32fc5d6d-0452-4bca-936c-04800db7f400",
    "ExecuteTime": {
     "start_time": "2023-06-11T22:14:38.526419Z",
     "end_time": "2023-06-11T22:14:39.661430Z"
    }
   },
   "execution_count": 114,
   "outputs": [
    {
     "data": {
      "text/plain": "<Figure size 900x600 with 2 Axes>",
      "image/png": "[encoded data removed]"
     },
     "metadata": {},
     "output_type": "display_data"
    }
   ]
  },
  {
   "cell_type": "markdown",
   "source": [
    "Confusion matrix (alternative)"
   ],
   "metadata": {
    "collapsed": false
   }
  },
  {
   "cell_type": "code",
   "source": [
    "confusion_matrix_df = pd.DataFrame(confusion_matrix(T, T_pred))\n",
    "sns.heatmap(confusion_matrix_df, annot=True)\n",
    "plt.title('Confusion matrix')\n",
    "plt.xlabel(\"prediction\")\n",
    "plt.ylabel(\"label (ground truth)\")\n",
    "plt.show()"
   ],
   "metadata": {
    "colab": {
     "base_uri": "https://localhost:8080/",
     "height": 447
    },
    "id": "ojcXdbIwM4TA",
    "outputId": "7f534fdf-a6bc-42f1-d47e-5d99c080b58c",
    "ExecuteTime": {
     "start_time": "2023-06-11T22:14:19.889685Z",
     "end_time": "2023-06-11T22:14:20.964628Z"
    }
   },
   "execution_count": 113,
   "outputs": [
    {
     "data": {
      "text/plain": "<Figure size 640x480 with 2 Axes>",
      "image/png": "[encoded data removed]"
     },
     "metadata": {},
     "output_type": "display_data"
    }
   ]
  },
  {
   "cell_type": "markdown",
   "source": [
    "Classification report"
   ],
   "metadata": {
    "collapsed": false
   }
  },
  {
   "cell_type": "code",
   "source": [
    "print(classification_report(T, T_pred, target_names=classes))"
   ],
   "metadata": {
    "colab": {
     "base_uri": "https://localhost:8080/"
    },
    "id": "4SPUJHVnMhR0",
    "outputId": "ef26b9bd-341f-4b4e-ca21-ac981a1b4933",
    "ExecuteTime": {
     "start_time": "2023-06-11T22:05:30.605153Z",
     "end_time": "2023-06-11T22:05:30.687466Z"
    }
   },
   "execution_count": 99,
   "outputs": [
    {
     "name": "stdout",
     "output_type": "stream",
     "text": [
      "              precision    recall  f1-score   support\n",
      "\n",
      "       Bears       1.00      0.97      0.98        59\n",
      "      Pandas       0.97      1.00      0.99        66\n",
      "\n",
      "    accuracy                           0.98       125\n",
      "   macro avg       0.99      0.98      0.98       125\n",
      "weighted avg       0.98      0.98      0.98       125\n",
      "\n"
     ]
    }
   ]
  }
 ]
}
