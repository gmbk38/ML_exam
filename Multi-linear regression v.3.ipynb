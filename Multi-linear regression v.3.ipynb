{
 "cells": [
  {
   "cell_type": "code",
   "execution_count": 61,
   "outputs": [],
   "source": [
    "import torch\n",
    "import torch.nn as nn\n",
    "from tqdm import tqdm\n",
    "import pandas as pd\n",
    "%matplotlib inline\n",
    "from matplotlib.pyplot import style\n",
    "import matplotlib.pyplot as plt"
   ],
   "metadata": {
    "collapsed": false,
    "ExecuteTime": {
     "end_time": "2023-06-12T16:07:52.084297Z",
     "start_time": "2023-06-12T16:07:52.058723Z"
    }
   }
  },
  {
   "cell_type": "markdown",
   "source": [
    "Замена"
   ],
   "metadata": {
    "collapsed": false
   }
  },
  {
   "cell_type": "code",
   "execution_count": 62,
   "outputs": [
    {
     "name": "stdout",
     "output_type": "stream",
     "text": [
      "В наборе данных 1338 записей\n"
     ]
    }
   ],
   "source": [
    "data = pd.read_csv('data/insurance.csv')\n",
    "print(f'В наборе данных {data.shape[0]} записей')"
   ],
   "metadata": {
    "collapsed": false,
    "ExecuteTime": {
     "end_time": "2023-06-12T16:07:52.111228Z",
     "start_time": "2023-06-12T16:07:52.063826Z"
    }
   }
  },
  {
   "cell_type": "code",
   "execution_count": 63,
   "outputs": [],
   "source": [
    "# преобразование каждого признака в числовой\n",
    "sexUn = data['sex'].unique()\n",
    "smokerUn = data['smoker'].unique()\n",
    "regionUn = data['region'].unique()\n",
    "\n",
    "for i in range(len(sexUn)):\n",
    "    data['sex'] = data['sex'].replace(sexUn[i], i)\n",
    "\n",
    "for i in range(len(smokerUn)):\n",
    "    data['smoker'] = data['smoker'].replace(smokerUn[i], i)\n",
    "\n",
    "for i in range(len(regionUn)):\n",
    "    data['region'] = data['region'].replace(regionUn[i], i)"
   ],
   "metadata": {
    "collapsed": false,
    "ExecuteTime": {
     "end_time": "2023-06-12T16:07:52.130077Z",
     "start_time": "2023-06-12T16:07:52.070065Z"
    }
   }
  },
  {
   "cell_type": "code",
   "execution_count": 64,
   "outputs": [
    {
     "data": {
      "text/plain": "   age  sex     bmi  children  smoker  region      charges\n0   19    0  27.900         0       0       0  16884.92400\n1   18    1  33.770         1       1       1   1725.55230\n2   28    1  33.000         3       1       1   4449.46200\n3   33    1  22.705         0       1       2  21984.47061\n4   32    1  28.880         0       1       2   3866.85520",
      "text/html": "<div>\n<style scoped>\n    .dataframe tbody tr th:only-of-type {\n        vertical-align: middle;\n    }\n\n    .dataframe tbody tr th {\n        vertical-align: top;\n    }\n\n    .dataframe thead th {\n        text-align: right;\n    }\n</style>\n<table border=\"1\" class=\"dataframe\">\n  <thead>\n    <tr style=\"text-align: right;\">\n      <th></th>\n      <th>age</th>\n      <th>sex</th>\n      <th>bmi</th>\n      <th>children</th>\n      <th>smoker</th>\n      <th>region</th>\n      <th>charges</th>\n    </tr>\n  </thead>\n  <tbody>\n    <tr>\n      <th>0</th>\n      <td>19</td>\n      <td>0</td>\n      <td>27.900</td>\n      <td>0</td>\n      <td>0</td>\n      <td>0</td>\n      <td>16884.92400</td>\n    </tr>\n    <tr>\n      <th>1</th>\n      <td>18</td>\n      <td>1</td>\n      <td>33.770</td>\n      <td>1</td>\n      <td>1</td>\n      <td>1</td>\n      <td>1725.55230</td>\n    </tr>\n    <tr>\n      <th>2</th>\n      <td>28</td>\n      <td>1</td>\n      <td>33.000</td>\n      <td>3</td>\n      <td>1</td>\n      <td>1</td>\n      <td>4449.46200</td>\n    </tr>\n    <tr>\n      <th>3</th>\n      <td>33</td>\n      <td>1</td>\n      <td>22.705</td>\n      <td>0</td>\n      <td>1</td>\n      <td>2</td>\n      <td>21984.47061</td>\n    </tr>\n    <tr>\n      <th>4</th>\n      <td>32</td>\n      <td>1</td>\n      <td>28.880</td>\n      <td>0</td>\n      <td>1</td>\n      <td>2</td>\n      <td>3866.85520</td>\n    </tr>\n  </tbody>\n</table>\n</div>"
     },
     "execution_count": 64,
     "metadata": {},
     "output_type": "execute_result"
    }
   ],
   "source": [
    "data.head()"
   ],
   "metadata": {
    "collapsed": false,
    "ExecuteTime": {
     "end_time": "2023-06-12T16:07:52.130403Z",
     "start_time": "2023-06-12T16:07:52.080441Z"
    }
   }
  },
  {
   "cell_type": "code",
   "execution_count": 65,
   "outputs": [],
   "source": [
    "age = torch.tensor( data = data.age.values, dtype = torch.float )\n",
    "bmi = torch.tensor( data = data.bmi.values, dtype = torch.float)\n",
    "children = torch.tensor( data = data.children.values, dtype = torch.float)\n",
    "\n",
    "sex = torch.tensor( data = data.sex.values, dtype = torch.float)\n",
    "smoker = torch.tensor( data = data.smoker.values, dtype = torch.float)\n",
    "region = torch.tensor( data = data.region.values, dtype = torch.float)\n",
    "\n",
    "charges = torch.tensor( data = data.charges.values, dtype = torch.float )"
   ],
   "metadata": {
    "collapsed": false,
    "ExecuteTime": {
     "end_time": "2023-06-12T16:07:52.130917Z",
     "start_time": "2023-06-12T16:07:52.086570Z"
    }
   }
  },
  {
   "cell_type": "markdown",
   "source": [],
   "metadata": {
    "collapsed": false
   }
  },
  {
   "cell_type": "code",
   "execution_count": 66,
   "outputs": [
    {
     "data": {
      "text/plain": "age           int64\nsex           int64\nbmi         float64\nchildren      int64\nsmoker        int64\nregion        int64\ncharges     float64\ndtype: object"
     },
     "execution_count": 66,
     "metadata": {},
     "output_type": "execute_result"
    }
   ],
   "source": [
    "data.dtypes"
   ],
   "metadata": {
    "collapsed": false,
    "ExecuteTime": {
     "end_time": "2023-06-12T16:07:52.130983Z",
     "start_time": "2023-06-12T16:07:52.090138Z"
    }
   }
  },
  {
   "cell_type": "code",
   "execution_count": 67,
   "outputs": [
    {
     "data": {
      "text/plain": "torch.Size([1338, 6])"
     },
     "execution_count": 67,
     "metadata": {},
     "output_type": "execute_result"
    }
   ],
   "source": [
    "X = torch.tensor(data.loc[:,['age','bmi','children', 'sex', 'smoker', 'region']].values)\n",
    "y = torch.tensor(data.charges.values)\n",
    "X.shape"
   ],
   "metadata": {
    "collapsed": false,
    "ExecuteTime": {
     "end_time": "2023-06-12T16:07:52.131056Z",
     "start_time": "2023-06-12T16:07:52.093550Z"
    }
   }
  },
  {
   "cell_type": "code",
   "execution_count": 68,
   "outputs": [
    {
     "data": {
      "text/plain": "(tensor([0.2547, 0.4793, 0.8980, 0.5732, 0.6620, 0.9396], dtype=torch.float64,\n        requires_grad=True),\n tensor([0.5800], dtype=torch.float64, requires_grad=True))"
     },
     "execution_count": 68,
     "metadata": {},
     "output_type": "execute_result"
    }
   ],
   "source": [
    "w = torch.rand(6, dtype=torch.double, requires_grad = True)\n",
    "b = torch.rand(1, dtype=torch.double, requires_grad = True)\n",
    "w, b"
   ],
   "metadata": {
    "collapsed": false,
    "ExecuteTime": {
     "end_time": "2023-06-12T16:07:52.131103Z",
     "start_time": "2023-06-12T16:07:52.098373Z"
    }
   }
  },
  {
   "cell_type": "code",
   "execution_count": 69,
   "outputs": [],
   "source": [
    "class MultipleRegression(nn.Module):\n",
    "\n",
    "    def __init__(self, n_weight:int):\n",
    "        super(MultipleRegression, self).__init__()\n",
    "        self.w = torch.randn(size =(n_weight,1), dtype=torch.double,\n",
    "                             requires_grad=True)\n",
    "        self.b = torch.randn(1, requires_grad=True)\n",
    "\n",
    "    def forward(self, X:torch.Tensor):\n",
    "        assert isinstance(X, torch.Tensor)\n",
    "        prediction = X @ self.w + self.b\n",
    "        return prediction"
   ],
   "metadata": {
    "collapsed": false,
    "ExecuteTime": {
     "end_time": "2023-06-12T16:07:52.131142Z",
     "start_time": "2023-06-12T16:07:52.102697Z"
    }
   }
  },
  {
   "cell_type": "code",
   "execution_count": 70,
   "outputs": [
    {
     "data": {
      "text/plain": "(tensor([-1.6365], requires_grad=True),\n tensor([[-1.7462e+00],\n         [-2.6799e+00],\n         [-3.7826e-01],\n         [-2.2558e-03],\n         [ 6.6134e-01],\n         [-3.0685e-01]], dtype=torch.float64, requires_grad=True))"
     },
     "execution_count": 70,
     "metadata": {},
     "output_type": "execute_result"
    }
   ],
   "source": [
    "mymodel = MultipleRegression(n_weight = 6)\n",
    "mymodel.b, mymodel.w"
   ],
   "metadata": {
    "collapsed": false,
    "ExecuteTime": {
     "end_time": "2023-06-12T16:07:52.131189Z",
     "start_time": "2023-06-12T16:07:52.104979Z"
    }
   }
  },
  {
   "cell_type": "code",
   "execution_count": 71,
   "outputs": [],
   "source": [
    "prediction = mymodel(X)"
   ],
   "metadata": {
    "collapsed": false,
    "ExecuteTime": {
     "end_time": "2023-06-12T16:07:52.131730Z",
     "start_time": "2023-06-12T16:07:52.110538Z"
    }
   }
  },
  {
   "cell_type": "code",
   "execution_count": 72,
   "outputs": [
    {
     "data": {
      "text/plain": "tensor(3.2698e+08, dtype=torch.float64, grad_fn=<MseLossBackward0>)"
     },
     "execution_count": 72,
     "metadata": {},
     "output_type": "execute_result"
    }
   ],
   "source": [
    "import torch.nn.functional as F\n",
    "F.mse_loss(prediction, y.reshape(-1,1))"
   ],
   "metadata": {
    "collapsed": false,
    "ExecuteTime": {
     "end_time": "2023-06-12T16:07:52.131826Z",
     "start_time": "2023-06-12T16:07:52.112769Z"
    }
   }
  },
  {
   "cell_type": "code",
   "execution_count": 73,
   "outputs": [],
   "source": [
    "myoptimizer = torch.optim.SGD(params = [mymodel.b,mymodel.w], lr = 1e-9, momentum =0.9)\n",
    "# myoptimizer = torch.optim.Adam([mymodel.b, mymodel.w], lr = 0.005)"
   ],
   "metadata": {
    "collapsed": false,
    "ExecuteTime": {
     "end_time": "2023-06-12T16:07:52.131866Z",
     "start_time": "2023-06-12T16:07:52.117012Z"
    }
   }
  },
  {
   "cell_type": "code",
   "execution_count": 74,
   "outputs": [],
   "source": [
    "from sklearn.model_selection import train_test_split\n",
    "\n",
    "x_train, x_test, y_train, y_test= train_test_split(X, y, test_size=0.2, train_size=0.8, random_state=4)"
   ],
   "metadata": {
    "collapsed": false,
    "ExecuteTime": {
     "end_time": "2023-06-12T16:07:52.131904Z",
     "start_time": "2023-06-12T16:07:52.119901Z"
    }
   }
  },
  {
   "cell_type": "code",
   "execution_count": 86,
   "outputs": [
    {
     "name": "stderr",
     "output_type": "stream",
     "text": [
      " 22%|██▏       | 11017/50000 [00:01<00:06, 5793.72it/s]"
     ]
    },
    {
     "name": "stdout",
     "output_type": "stream",
     "text": [
      "epoch = 9999, loss = 135352311.99781337\n"
     ]
    },
    {
     "name": "stderr",
     "output_type": "stream",
     "text": [
      " 41%|████      | 20622/50000 [00:03<00:04, 6158.98it/s]"
     ]
    },
    {
     "name": "stdout",
     "output_type": "stream",
     "text": [
      "epoch = 19999, loss = 135118651.2539681\n"
     ]
    },
    {
     "name": "stderr",
     "output_type": "stream",
     "text": [
      " 62%|██████▏   | 31204/50000 [00:05<00:03, 6204.81it/s]"
     ]
    },
    {
     "name": "stdout",
     "output_type": "stream",
     "text": [
      "epoch = 29999, loss = 135031344.86006737\n"
     ]
    },
    {
     "name": "stderr",
     "output_type": "stream",
     "text": [
      " 82%|████████▏ | 41187/50000 [00:06<00:01, 6214.24it/s]"
     ]
    },
    {
     "name": "stdout",
     "output_type": "stream",
     "text": [
      "epoch = 39999, loss = 134994612.56797397\n"
     ]
    },
    {
     "name": "stderr",
     "output_type": "stream",
     "text": [
      "100%|██████████| 50000/50000 [00:08<00:00, 6105.96it/s]\n"
     ]
    },
    {
     "name": "stdout",
     "output_type": "stream",
     "text": [
      "epoch = 49999, loss = 134975402.2599754\n"
     ]
    },
    {
     "data": {
      "text/plain": "<Figure size 640x480 with 1 Axes>",
      "image/png": "[encoded data removed]"
     },
     "metadata": {},
     "output_type": "display_data"
    }
   ],
   "source": [
    "from sklearn.metrics import r2_score\n",
    "\n",
    "r2data = []\n",
    "\n",
    "myMSE = list()\n",
    "for epoch in tqdm(range(50000)):\n",
    "    myoptimizer.zero_grad()\n",
    "    predicted = mymodel(x_train)\n",
    "    loss = F.mse_loss(predicted, y_train.reshape(-1,1))\n",
    "    myMSE.append(loss.detach())\n",
    "    loss.backward()\n",
    "    myoptimizer.step()\n",
    "    if (epoch+1) % 10000 == 0:\n",
    "        print(f'epoch = {epoch:02d}, loss = {loss}')\n",
    "\n",
    "    with torch.no_grad():\n",
    "        train_predictions = mymodel(x_train).squeeze().numpy()\n",
    "        r2data.append(r2_score(y_train.numpy(), train_predictions))\n",
    "\n",
    "plt.plot(myMSE);\n",
    "plt.xlabel(f'Epochs ({epoch})'), plt.ylabel('Mean squared Errors');"
   ],
   "metadata": {
    "collapsed": false,
    "ExecuteTime": {
     "end_time": "2023-06-12T16:09:12.507057Z",
     "start_time": "2023-06-12T16:09:04.074624Z"
    }
   }
  },
  {
   "cell_type": "code",
   "execution_count": 85,
   "outputs": [
    {
     "data": {
      "text/plain": "<Figure size 640x480 with 1 Axes>",
      "image/png": "[encoded data removed]"
     },
     "metadata": {},
     "output_type": "display_data"
    }
   ],
   "source": [
    "plt.plot(r2data)\n",
    "plt.xlabel(f'Epochs ({epoch})'), plt.ylabel('R2');"
   ],
   "metadata": {
    "collapsed": false,
    "ExecuteTime": {
     "end_time": "2023-06-12T16:08:56.226696Z",
     "start_time": "2023-06-12T16:08:56.152Z"
    }
   }
  },
  {
   "cell_type": "code",
   "execution_count": 76,
   "outputs": [
    {
     "name": "stdout",
     "output_type": "stream",
     "text": [
      "Train R2 score: 0.0976597266622985\n",
      "Test R2 score: 0.12164856161950433\n"
     ]
    }
   ],
   "source": [
    "from sklearn.metrics import r2_score\n",
    "# Предсказание на обучающем наборе\n",
    "\n",
    "mymodel.eval()\n",
    "with torch.no_grad():\n",
    "    train_predictions = mymodel(x_train).squeeze().numpy()\n",
    "\n",
    "print(f\"Train R2 score: {r2_score(y_train.numpy(), train_predictions)}\")\n",
    "\n",
    "# Предсказание на тестовом наборе\n",
    "with torch.no_grad():\n",
    "    test_predictions = mymodel(x_test).squeeze().numpy()\n",
    "print(f\"Test R2 score: {r2_score(y_test.numpy(), test_predictions)}\")"
   ],
   "metadata": {
    "collapsed": false,
    "ExecuteTime": {
     "end_time": "2023-06-12T16:08:00.694510Z",
     "start_time": "2023-06-12T16:08:00.693013Z"
    }
   }
  },
  {
   "cell_type": "code",
   "execution_count": 77,
   "outputs": [
    {
     "data": {
      "text/plain": "(tensor([[202.9008],\n         [151.1835],\n         [  5.5783],\n         [  2.7810],\n         [  0.4266],\n         [  6.4656]], dtype=torch.float64, requires_grad=True),\n tensor([3.0241], requires_grad=True))"
     },
     "execution_count": 77,
     "metadata": {},
     "output_type": "execute_result"
    }
   ],
   "source": [
    "mymodel.w, mymodel.b"
   ],
   "metadata": {
    "collapsed": false,
    "ExecuteTime": {
     "end_time": "2023-06-12T16:08:00.698142Z",
     "start_time": "2023-06-12T16:08:00.695974Z"
    }
   }
  },
  {
   "cell_type": "markdown",
   "source": [
    "Выполнить предсказание на данных:"
   ],
   "metadata": {
    "collapsed": false
   }
  },
  {
   "cell_type": "code",
   "execution_count": 79,
   "outputs": [],
   "source": [
    "def predict_single(input, target, model):\n",
    "    inputs = input.unsqueeze(0)\n",
    "    predictions =  model(inputs)\n",
    "    prediction = predictions[0].detach()\n",
    "    print(\"Input:\", input)\n",
    "    print(\"Target:\", target)\n",
    "    print(\"Prediction:\", prediction)"
   ],
   "metadata": {
    "collapsed": false,
    "ExecuteTime": {
     "end_time": "2023-06-12T16:08:00.703636Z",
     "start_time": "2023-06-12T16:08:00.702374Z"
    }
   }
  },
  {
   "cell_type": "code",
   "execution_count": 80,
   "outputs": [
    {
     "name": "stdout",
     "output_type": "stream",
     "text": [
      "Input: tensor([39.0000, 34.1000,  2.0000,  1.0000,  1.0000,  1.0000],\n",
      "       dtype=torch.float64)\n",
      "Target: tensor(23563.0162, dtype=torch.float64)\n",
      "Prediction: tensor([13092.3422], dtype=torch.float64)\n"
     ]
    }
   ],
   "source": [
    "import random\n",
    "exp = (random.randint(0, 1338))\n",
    "\n",
    "input, target = X[exp], y[exp]\n",
    "predict_single(input, target, mymodel)"
   ],
   "metadata": {
    "collapsed": false,
    "ExecuteTime": {
     "end_time": "2023-06-12T16:08:00.707400Z",
     "start_time": "2023-06-12T16:08:00.705123Z"
    }
   }
  }
 ],
 "metadata": {
  "kernelspec": {
   "display_name": "Python 3",
   "language": "python",
   "name": "python3"
  },
  "language_info": {
   "codemirror_mode": {
    "name": "ipython",
    "version": 2
   },
   "file_extension": ".py",
   "mimetype": "text/x-python",
   "name": "python",
   "nbconvert_exporter": "python",
   "pygments_lexer": "ipython2",
   "version": "2.7.6"
  }
 },
 "nbformat": 4,
 "nbformat_minor": 0
}
